{
 "cells": [
  {
   "cell_type": "code",
   "execution_count": 10,
   "metadata": {},
   "outputs": [],
   "source": [
    "import os, sys\n",
    "import datetime\n",
    "from time import time\n",
    "from tqdm import tqdm_notebook as tqdm\n",
    "from collections import Counter\n",
    "\n",
    "import numpy as np\n",
    "import pandas as pd\n",
    "pd.set_option('display.max_columns', None)\n",
    "\n",
    "import matplotlib.pyplot as plt\n",
    "\n",
    "from sklearn.model_selection import StratifiedKFold\n",
    "from sklearn.model_selection import train_test_split as split\n",
    "from sklearn.metrics import cohen_kappa_score\n",
    "import category_encoders as ce\n",
    "\n",
    "from catboost import CatBoostRegressor\n",
    "import lightgbm as lgb\n",
    "import xgboost as xgb\n",
    "\n",
    "from functools import partial\n",
    "import scipy as sp              # for optimize.minimize()"
   ]
  },
  {
   "cell_type": "code",
   "execution_count": 11,
   "metadata": {},
   "outputs": [],
   "source": [
    "# Execution environment setting\n",
    "Kaggle = False\n",
    "\n",
    "if Kaggle:\n",
    "    DIR = '../input/data-science-bowl-2019'\n",
    "    task_type = 'CPU'\n",
    "else:\n",
    "    DIR = 'data'\n",
    "    task_type = 'GPU'"
   ]
  },
  {
   "cell_type": "markdown",
   "metadata": {},
   "source": [
    "## Observe the data"
   ]
  },
  {
   "cell_type": "code",
   "execution_count": 12,
   "metadata": {},
   "outputs": [],
   "source": [
    "train = pd.read_csv(os.path.join(DIR,'train.csv'))\n",
    "train_labels = pd.read_csv(os.path.join(DIR,'train_labels.csv'))\n",
    "specs = pd.read_csv(os.path.join(DIR,'specs.csv'))\n",
    "test = pd.read_csv(os.path.join(DIR,'test.csv'))"
   ]
  },
  {
   "cell_type": "code",
   "execution_count": 13,
   "metadata": {},
   "outputs": [
    {
     "name": "stdout",
     "output_type": "stream",
     "text": "train:\t\t (11341042, 11)\ntrain_labels:\t (17690, 7)\nspecs:\t\t (386, 3)\ntest:\t\t (1156414, 11)\n"
    }
   ],
   "source": [
    "print('train:\\t\\t',train.shape)\n",
    "print('train_labels:\\t',train_labels.shape)\n",
    "print('specs:\\t\\t',specs.shape)\n",
    "print('test:\\t\\t',test.shape)"
   ]
  },
  {
   "cell_type": "code",
   "execution_count": 27,
   "metadata": {},
   "outputs": [],
   "source": [
    "# make 'title' and 'event_code' list\n",
    "title_list = list(set(train['title'].value_counts().index) \\\n",
    "                   .union(set(test['title'].value_counts().index)))\n",
    "event_code_list = list(set(train['event_code'].value_counts().index) \\\n",
    "                   .union(set(test['event_code'].value_counts().index)))\n",
    "print(\"title_list:\\t\\t\",title_list.shape)\n",
    "print(\"event_code_list:\\t\\t\",event_code_list.shape)"
   ]
  },
  {
   "cell_type": "code",
   "execution_count": 28,
   "metadata": {},
   "outputs": [],
   "source": [
    "# makes dict 'title to number(integer)'\n",
    "title2num = dict(zip(title_list, np.arange(len(title_list))))\n",
    "# makes dict 'number to title'\n",
    "num2title = dict(zip(np.arange(len(title_list)), title_list))\n",
    "# makes dict 'title to win event_code' \n",
    "# (4100 except 'Bird Measurer' and 4110 for 'Bird Measurer'))\n",
    "title2win_code = dict(zip(title2num.values() \\\n",
    "                    ,(np.ones(len(title2num))).astype('int') * 4100))\n",
    "title2win_code[title2num['Bird Measurer (Assessment)']] = 4110"
   ]
  },
  {
   "cell_type": "code",
   "execution_count": 29,
   "metadata": {},
   "outputs": [],
   "source": [
    "# Convert 'title' to the number\n",
    "train['title'] = train['title'].map(title2num)\n",
    "test['title'] = test['title'].map(title2num)\n",
    "train_labels['title'] = train_labels['title'].map(title2num)\n",
    "\n",
    "# Convert 'timestamp' to datetime\n",
    "train['timestamp'] = pd.to_datetime(train['timestamp'])\n",
    "test['timestamp'] = pd.to_datetime(test['timestamp'])"
   ]
  },
  {
   "cell_type": "code",
   "execution_count": 30,
   "metadata": {},
   "outputs": [],
   "source": [
    "# Convert the raw data into processed features\n",
    "def get_data(user_sample, test_set=False):\n",
    "    '''\n",
    "    user_sample : DataFrame from train/test group by 'installation_id'\n",
    "    test_set    : related with the labels processing\n",
    "    '''\n",
    "    # Constants and parameters declaration\n",
    "    user_assessments = []\n",
    "    last_type = 0\n",
    "    types_count = {'Clip':0, 'Activity':0, 'Assessment':0, 'Game':0}\n",
    "    time_first_activity = float(user_sample['timestamp'].values[0])\n",
    "    time_spent_each_title = {title:0 for title in title_list}\n",
    "    event_code_count = {code:0 for code in event_code_list}\n",
    "    accuracy_groups = {0:0, 1:0, 2:0, 3:0}\n",
    "    \n",
    "    accumu_accuracy_group = 0\n",
    "    accumu_accuracy=0\n",
    "    accumu_win_n = 0 \n",
    "    accumu_loss_n = 0 \n",
    "    accumu_actions = 0\n",
    "    counter = 0\n",
    "    durations = []\n",
    "    \n",
    "    # group by 'game_session'\n",
    "    for i, session in user_sample.groupby('game_session', sort=False):\n",
    "        # i      : game_session_id\n",
    "        # session: DataFrame from user_sample group by 'game_session'\n",
    "        session_type = session['type'].iloc[0]  # Game/Assessment/Activity/Clip\n",
    "        session_title = session['title'].iloc[0]\n",
    "        \n",
    "        if session_type != 'Assessment':\n",
    "            time_spent = int(session['game_time'].iloc[-1] / 1000)   # [sec]\n",
    "            time_spent_each_title[num2title[session_title]] += time_spent\n",
    "        \n",
    "        if (session_type == 'Assessment') & (test_set or len(session)>1):\n",
    "            # search for event_code 4100(4110)\n",
    "            all_4100 = session.query(f'event_code == \\\n",
    "                                         {title2win_code[session_title]}')\n",
    "            # numbers of wins and losses\n",
    "            win_n = all_4100['event_data'].str.contains('true').sum()\n",
    "            loss_n = all_4100['event_data'].str.contains('false').sum()\n",
    "\n",
    "            # init features and then update\n",
    "            features = types_count.copy()\n",
    "            features.update(time_spent_each_title.copy())\n",
    "            features.update(event_code_count.copy())\n",
    "            features['session_title'] = session_title\n",
    "            features['accumu_win_n'] = accumu_win_n\n",
    "            features['accumu_loss_n'] = accumu_loss_n\n",
    "            accumu_win_n += win_n\n",
    "            accumu_loss_n += loss_n\n",
    "            \n",
    "            features['day_of_the_week'] = (session['timestamp'].iloc[-1]). \\\n",
    "                                            strftime('%A')    # Mod 2019-11-17\n",
    "\n",
    "            if durations == []:\n",
    "                features['duration_mean'] = 0\n",
    "            else:\n",
    "                features['duration_mean'] = np.mean(durations)\n",
    "            durations.append((session.iloc[-1, 2] - session.iloc[0, 2] ).seconds)\n",
    "\n",
    "            # average of the all accuracy of this player\n",
    "            features['accuracy_ave'] = accumu_accuracy / counter \\\n",
    "                                                if counter > 0 else 0\n",
    "            accuracy = win_n / (win_n + loss_n) \\\n",
    "                                   if (win_n + loss_n) > 0 else 0\n",
    "            accumu_accuracy += accuracy\n",
    "            if accuracy == 0:\n",
    "                features['accuracy_group'] = 0\n",
    "            elif accuracy == 1:\n",
    "                features['accuracy_group'] = 3\n",
    "            elif accuracy == 0.5:\n",
    "                features['accuracy_group'] = 2\n",
    "            else:\n",
    "                features['accuracy_group'] = 1\n",
    "            features.update(accuracy_groups)\n",
    "            accuracy_groups[features['accuracy_group']] += 1\n",
    "            # average of accuracy_groups of this player\n",
    "            features['accuracy_group_ave'] = \\\n",
    "                    accumu_accuracy_group / counter if counter > 0 else 0\n",
    "            accumu_accuracy_group += features['accuracy_group']\n",
    "            \n",
    "            # how many actions the player has done in this game_session\n",
    "            features['accumu_actions'] = accumu_actions\n",
    "            \n",
    "            # if test_set, all sessions belong to the final dataset\n",
    "            # elif train, needs to be passed throught this clausule\n",
    "            if test_set or (win_n + loss_n) > 0:\n",
    "                user_assessments.append(features)\n",
    "                \n",
    "            counter += 1\n",
    "        \n",
    "        # how many actions was made in each event_code\n",
    "        event_codes = Counter(session['event_code'])\n",
    "        for key in event_codes.keys():\n",
    "            event_code_count[key] += event_codes[key]\n",
    "\n",
    "        # how many actions the player has done\n",
    "        accumu_actions += len(session)\n",
    "        if last_type != session_type:\n",
    "            types_count[session_type] += 1\n",
    "            last_type = session_type\n",
    "            \n",
    "    # if test_set, only the last assessment must be predicted,\n",
    "    # the previous are scraped\n",
    "    if test_set:\n",
    "        return user_assessments[-1]\n",
    "    return user_assessments"
   ]
  },
  {
   "cell_type": "code",
   "execution_count": 31,
   "metadata": {},
   "outputs": [
    {
     "name": "stderr",
     "output_type": "stream",
     "text": "C:\\Users\\Jie Huang\\AppData\\Local\\Continuum\\anaconda3\\envs\\pbskids\\lib\\site-packages\\ipykernel_launcher.py:6: TqdmDeprecationWarning: This function will be removed in tqdm==5.0.0\nPlease use `tqdm.notebook.tqdm` instead of `tqdm.tqdm_notebook`\n  \n\n"
    },
    {
     "data": {
      "application/vnd.jupyter.widget-view+json": {
       "model_id": "6fd9824a2bf841b4841207081d03b58a",
       "version_major": 2,
       "version_minor": 0
      },
      "text/plain": "HBox(children=(FloatProgress(value=0.0, max=17000.0), HTML(value='')))"
     },
     "metadata": {},
     "output_type": "display_data"
    }
   ],
   "source": [
    "# get_data function is applyed to each installation_id\n",
    "compiled_data = []\n",
    "installation_n = train['installation_id'].nunique()\n",
    "for i, (ins_id, user_sample) in tqdm(enumerate(train.groupby( \\\n",
    "                                     'installation_id', sort=False)),\n",
    "                                     total=installation_n):\n",
    "    # user_sample : DataFrame group by 'installation_id'\n",
    "    compiled_data += get_data(user_sample)"
   ]
  },
  {
   "cell_type": "code",
   "execution_count": 32,
   "metadata": {},
   "outputs": [],
   "source": [
    "# the compiled_data is converted to DataFrame and deleted to save memmory\n",
    "new_train = pd.DataFrame(compiled_data)\n",
    "del compiled_data"
   ]
  },
  {
   "cell_type": "code",
   "execution_count": 33,
   "metadata": {},
   "outputs": [
    {
     "data": {
      "text/html": "<div>\n<style scoped>\n    .dataframe tbody tr th:only-of-type {\n        vertical-align: middle;\n    }\n\n    .dataframe tbody tr th {\n        vertical-align: top;\n    }\n\n    .dataframe thead th {\n        text-align: right;\n    }\n</style>\n<table border=\"1\" class=\"dataframe\">\n  <thead>\n    <tr style=\"text-align: right;\">\n      <th></th>\n      <th>Clip</th>\n      <th>Activity</th>\n      <th>Assessment</th>\n      <th>Game</th>\n      <th>Dino Dive</th>\n      <th>Sandcastle Builder (Activity)</th>\n      <th>Chest Sorter (Assessment)</th>\n      <th>Crystal Caves - Level 2</th>\n      <th>Dino Drink</th>\n      <th>Scrub-A-Dub</th>\n      <th>Pan Balance</th>\n      <th>Magma Peak - Level 1</th>\n      <th>Mushroom Sorter (Assessment)</th>\n      <th>Bottle Filler (Activity)</th>\n      <th>Crystal Caves - Level 1</th>\n      <th>Tree Top City - Level 3</th>\n      <th>Slop Problem</th>\n      <th>Cart Balancer (Assessment)</th>\n      <th>Tree Top City - Level 1</th>\n      <th>Tree Top City - Level 2</th>\n      <th>Crystals Rule</th>\n      <th>Pirate's Tale</th>\n      <th>Watering Hole (Activity)</th>\n      <th>Ordering Spheres</th>\n      <th>Leaf Leader</th>\n      <th>Crystal Caves - Level 3</th>\n      <th>Rulers</th>\n      <th>Magma Peak - Level 2</th>\n      <th>Bug Measurer (Activity)</th>\n      <th>All Star Sorting</th>\n      <th>Air Show</th>\n      <th>Balancing Act</th>\n      <th>Flower Waterer (Activity)</th>\n      <th>Chicken Balancer (Activity)</th>\n      <th>Costume Box</th>\n      <th>Bird Measurer (Assessment)</th>\n      <th>Chow Time</th>\n      <th>Lifting Heavy Things</th>\n      <th>Treasure Map</th>\n      <th>Egg Dropper (Activity)</th>\n      <th>Honey Cake</th>\n      <th>Bubble Bath</th>\n      <th>Fireworks (Activity)</th>\n      <th>Welcome to Lost Lagoon!</th>\n      <th>12 Monkeys</th>\n      <th>Heavy, Heavier, Heaviest</th>\n      <th>Cauldron Filler (Assessment)</th>\n      <th>Happy Camel</th>\n      <th>2050</th>\n      <th>4100</th>\n      <th>2060</th>\n      <th>4110</th>\n      <th>2070</th>\n      <th>2075</th>\n      <th>2080</th>\n      <th>2081</th>\n      <th>2083</th>\n      <th>3110</th>\n      <th>3120</th>\n      <th>3121</th>\n      <th>4220</th>\n      <th>4230</th>\n      <th>5000</th>\n      <th>4235</th>\n      <th>5010</th>\n      <th>4010</th>\n      <th>4020</th>\n      <th>4021</th>\n      <th>4022</th>\n      <th>4025</th>\n      <th>4030</th>\n      <th>4031</th>\n      <th>3010</th>\n      <th>4035</th>\n      <th>4040</th>\n      <th>3020</th>\n      <th>3021</th>\n      <th>4045</th>\n      <th>2000</th>\n      <th>4050</th>\n      <th>2010</th>\n      <th>2020</th>\n      <th>4070</th>\n      <th>2025</th>\n      <th>2030</th>\n      <th>4080</th>\n      <th>2035</th>\n      <th>2040</th>\n      <th>4090</th>\n      <th>4095</th>\n      <th>session_title</th>\n      <th>accumu_win_n</th>\n      <th>accumu_loss_n</th>\n      <th>day_of_the_week</th>\n      <th>duration_mean</th>\n      <th>accuracy_ave</th>\n      <th>accuracy_group</th>\n      <th>0</th>\n      <th>1</th>\n      <th>2</th>\n      <th>3</th>\n      <th>accuracy_group_ave</th>\n      <th>accumu_actions</th>\n    </tr>\n  </thead>\n  <tbody>\n    <tr>\n      <th>0</th>\n      <td>6</td>\n      <td>3</td>\n      <td>0</td>\n      <td>2</td>\n      <td>0</td>\n      <td>89</td>\n      <td>0</td>\n      <td>0</td>\n      <td>0</td>\n      <td>115</td>\n      <td>0</td>\n      <td>0</td>\n      <td>0</td>\n      <td>0</td>\n      <td>0</td>\n      <td>0</td>\n      <td>0</td>\n      <td>0</td>\n      <td>0</td>\n      <td>0</td>\n      <td>0</td>\n      <td>0</td>\n      <td>0</td>\n      <td>0</td>\n      <td>0</td>\n      <td>0</td>\n      <td>0</td>\n      <td>0</td>\n      <td>0</td>\n      <td>163</td>\n      <td>0</td>\n      <td>0</td>\n      <td>164</td>\n      <td>0</td>\n      <td>0</td>\n      <td>0</td>\n      <td>0</td>\n      <td>0</td>\n      <td>0</td>\n      <td>0</td>\n      <td>0</td>\n      <td>0</td>\n      <td>91</td>\n      <td>0</td>\n      <td>0</td>\n      <td>0</td>\n      <td>0</td>\n      <td>0</td>\n      <td>6</td>\n      <td>0</td>\n      <td>0</td>\n      <td>0</td>\n      <td>0</td>\n      <td>0</td>\n      <td>4</td>\n      <td>1</td>\n      <td>2</td>\n      <td>77</td>\n      <td>7</td>\n      <td>9</td>\n      <td>0</td>\n      <td>0</td>\n      <td>0</td>\n      <td>0</td>\n      <td>0</td>\n      <td>4</td>\n      <td>92</td>\n      <td>14</td>\n      <td>31</td>\n      <td>19</td>\n      <td>121</td>\n      <td>0</td>\n      <td>79</td>\n      <td>1</td>\n      <td>0</td>\n      <td>7</td>\n      <td>9</td>\n      <td>0</td>\n      <td>18</td>\n      <td>0</td>\n      <td>0</td>\n      <td>20</td>\n      <td>94</td>\n      <td>4</td>\n      <td>18</td>\n      <td>0</td>\n      <td>0</td>\n      <td>6</td>\n      <td>4</td>\n      <td>0</td>\n      <td>8</td>\n      <td>0</td>\n      <td>0</td>\n      <td>Tuesday</td>\n      <td>0.00</td>\n      <td>0.000000</td>\n      <td>3</td>\n      <td>0</td>\n      <td>0</td>\n      <td>0</td>\n      <td>0</td>\n      <td>0.0</td>\n      <td>647</td>\n    </tr>\n    <tr>\n      <th>1</th>\n      <td>8</td>\n      <td>4</td>\n      <td>1</td>\n      <td>4</td>\n      <td>0</td>\n      <td>89</td>\n      <td>0</td>\n      <td>0</td>\n      <td>0</td>\n      <td>115</td>\n      <td>0</td>\n      <td>0</td>\n      <td>0</td>\n      <td>0</td>\n      <td>0</td>\n      <td>0</td>\n      <td>0</td>\n      <td>0</td>\n      <td>0</td>\n      <td>0</td>\n      <td>78</td>\n      <td>0</td>\n      <td>0</td>\n      <td>0</td>\n      <td>0</td>\n      <td>0</td>\n      <td>0</td>\n      <td>0</td>\n      <td>104</td>\n      <td>163</td>\n      <td>193</td>\n      <td>0</td>\n      <td>164</td>\n      <td>0</td>\n      <td>0</td>\n      <td>0</td>\n      <td>0</td>\n      <td>0</td>\n      <td>0</td>\n      <td>0</td>\n      <td>0</td>\n      <td>0</td>\n      <td>91</td>\n      <td>0</td>\n      <td>0</td>\n      <td>0</td>\n      <td>0</td>\n      <td>0</td>\n      <td>6</td>\n      <td>5</td>\n      <td>1</td>\n      <td>2</td>\n      <td>1</td>\n      <td>0</td>\n      <td>4</td>\n      <td>1</td>\n      <td>2</td>\n      <td>223</td>\n      <td>11</td>\n      <td>16</td>\n      <td>0</td>\n      <td>0</td>\n      <td>0</td>\n      <td>0</td>\n      <td>0</td>\n      <td>6</td>\n      <td>127</td>\n      <td>14</td>\n      <td>31</td>\n      <td>37</td>\n      <td>149</td>\n      <td>0</td>\n      <td>226</td>\n      <td>6</td>\n      <td>2</td>\n      <td>11</td>\n      <td>16</td>\n      <td>0</td>\n      <td>25</td>\n      <td>0</td>\n      <td>1</td>\n      <td>26</td>\n      <td>156</td>\n      <td>5</td>\n      <td>22</td>\n      <td>0</td>\n      <td>1</td>\n      <td>6</td>\n      <td>4</td>\n      <td>0</td>\n      <td>31</td>\n      <td>1</td>\n      <td>0</td>\n      <td>Tuesday</td>\n      <td>39.00</td>\n      <td>1.000000</td>\n      <td>0</td>\n      <td>0</td>\n      <td>0</td>\n      <td>0</td>\n      <td>1</td>\n      <td>3.0</td>\n      <td>1143</td>\n    </tr>\n    <tr>\n      <th>2</th>\n      <td>8</td>\n      <td>4</td>\n      <td>2</td>\n      <td>4</td>\n      <td>0</td>\n      <td>89</td>\n      <td>0</td>\n      <td>0</td>\n      <td>0</td>\n      <td>115</td>\n      <td>0</td>\n      <td>0</td>\n      <td>0</td>\n      <td>0</td>\n      <td>0</td>\n      <td>0</td>\n      <td>0</td>\n      <td>0</td>\n      <td>0</td>\n      <td>0</td>\n      <td>78</td>\n      <td>0</td>\n      <td>0</td>\n      <td>0</td>\n      <td>0</td>\n      <td>0</td>\n      <td>0</td>\n      <td>0</td>\n      <td>104</td>\n      <td>163</td>\n      <td>193</td>\n      <td>0</td>\n      <td>164</td>\n      <td>0</td>\n      <td>0</td>\n      <td>0</td>\n      <td>0</td>\n      <td>0</td>\n      <td>0</td>\n      <td>0</td>\n      <td>0</td>\n      <td>0</td>\n      <td>91</td>\n      <td>0</td>\n      <td>0</td>\n      <td>0</td>\n      <td>0</td>\n      <td>0</td>\n      <td>6</td>\n      <td>5</td>\n      <td>1</td>\n      <td>13</td>\n      <td>1</td>\n      <td>0</td>\n      <td>4</td>\n      <td>1</td>\n      <td>2</td>\n      <td>225</td>\n      <td>22</td>\n      <td>16</td>\n      <td>0</td>\n      <td>0</td>\n      <td>0</td>\n      <td>0</td>\n      <td>0</td>\n      <td>6</td>\n      <td>127</td>\n      <td>14</td>\n      <td>31</td>\n      <td>59</td>\n      <td>171</td>\n      <td>0</td>\n      <td>228</td>\n      <td>6</td>\n      <td>2</td>\n      <td>22</td>\n      <td>16</td>\n      <td>0</td>\n      <td>26</td>\n      <td>0</td>\n      <td>1</td>\n      <td>27</td>\n      <td>160</td>\n      <td>5</td>\n      <td>22</td>\n      <td>0</td>\n      <td>1</td>\n      <td>6</td>\n      <td>4</td>\n      <td>0</td>\n      <td>8</td>\n      <td>1</td>\n      <td>11</td>\n      <td>Tuesday</td>\n      <td>65.50</td>\n      <td>0.500000</td>\n      <td>3</td>\n      <td>1</td>\n      <td>0</td>\n      <td>0</td>\n      <td>1</td>\n      <td>1.5</td>\n      <td>1230</td>\n    </tr>\n    <tr>\n      <th>3</th>\n      <td>15</td>\n      <td>9</td>\n      <td>3</td>\n      <td>7</td>\n      <td>0</td>\n      <td>126</td>\n      <td>0</td>\n      <td>0</td>\n      <td>110</td>\n      <td>195</td>\n      <td>0</td>\n      <td>0</td>\n      <td>0</td>\n      <td>165</td>\n      <td>0</td>\n      <td>0</td>\n      <td>0</td>\n      <td>0</td>\n      <td>0</td>\n      <td>0</td>\n      <td>78</td>\n      <td>0</td>\n      <td>80</td>\n      <td>0</td>\n      <td>0</td>\n      <td>0</td>\n      <td>0</td>\n      <td>0</td>\n      <td>104</td>\n      <td>229</td>\n      <td>193</td>\n      <td>0</td>\n      <td>254</td>\n      <td>0</td>\n      <td>0</td>\n      <td>0</td>\n      <td>0</td>\n      <td>0</td>\n      <td>0</td>\n      <td>0</td>\n      <td>0</td>\n      <td>133</td>\n      <td>1611</td>\n      <td>0</td>\n      <td>0</td>\n      <td>0</td>\n      <td>0</td>\n      <td>0</td>\n      <td>9</td>\n      <td>6</td>\n      <td>2</td>\n      <td>13</td>\n      <td>2</td>\n      <td>0</td>\n      <td>8</td>\n      <td>2</td>\n      <td>5</td>\n      <td>336</td>\n      <td>25</td>\n      <td>40</td>\n      <td>9</td>\n      <td>0</td>\n      <td>5</td>\n      <td>0</td>\n      <td>5</td>\n      <td>10</td>\n      <td>243</td>\n      <td>29</td>\n      <td>45</td>\n      <td>93</td>\n      <td>314</td>\n      <td>6</td>\n      <td>341</td>\n      <td>14</td>\n      <td>9</td>\n      <td>25</td>\n      <td>40</td>\n      <td>2</td>\n      <td>47</td>\n      <td>0</td>\n      <td>2</td>\n      <td>52</td>\n      <td>348</td>\n      <td>9</td>\n      <td>43</td>\n      <td>0</td>\n      <td>5</td>\n      <td>10</td>\n      <td>4</td>\n      <td>1</td>\n      <td>8</td>\n      <td>2</td>\n      <td>11</td>\n      <td>Tuesday</td>\n      <td>41.25</td>\n      <td>0.500000</td>\n      <td>2</td>\n      <td>2</td>\n      <td>0</td>\n      <td>0</td>\n      <td>2</td>\n      <td>1.5</td>\n      <td>2159</td>\n    </tr>\n    <tr>\n      <th>4</th>\n      <td>17</td>\n      <td>10</td>\n      <td>3</td>\n      <td>9</td>\n      <td>0</td>\n      <td>126</td>\n      <td>0</td>\n      <td>0</td>\n      <td>110</td>\n      <td>195</td>\n      <td>0</td>\n      <td>0</td>\n      <td>0</td>\n      <td>165</td>\n      <td>0</td>\n      <td>0</td>\n      <td>0</td>\n      <td>0</td>\n      <td>0</td>\n      <td>0</td>\n      <td>310</td>\n      <td>0</td>\n      <td>80</td>\n      <td>0</td>\n      <td>0</td>\n      <td>0</td>\n      <td>0</td>\n      <td>0</td>\n      <td>184</td>\n      <td>229</td>\n      <td>336</td>\n      <td>0</td>\n      <td>254</td>\n      <td>0</td>\n      <td>0</td>\n      <td>0</td>\n      <td>0</td>\n      <td>0</td>\n      <td>0</td>\n      <td>0</td>\n      <td>0</td>\n      <td>133</td>\n      <td>1611</td>\n      <td>0</td>\n      <td>0</td>\n      <td>0</td>\n      <td>0</td>\n      <td>0</td>\n      <td>9</td>\n      <td>12</td>\n      <td>3</td>\n      <td>13</td>\n      <td>2</td>\n      <td>1</td>\n      <td>8</td>\n      <td>2</td>\n      <td>5</td>\n      <td>457</td>\n      <td>30</td>\n      <td>53</td>\n      <td>9</td>\n      <td>0</td>\n      <td>5</td>\n      <td>0</td>\n      <td>5</td>\n      <td>12</td>\n      <td>277</td>\n      <td>29</td>\n      <td>45</td>\n      <td>105</td>\n      <td>331</td>\n      <td>6</td>\n      <td>463</td>\n      <td>15</td>\n      <td>10</td>\n      <td>30</td>\n      <td>53</td>\n      <td>2</td>\n      <td>56</td>\n      <td>0</td>\n      <td>3</td>\n      <td>64</td>\n      <td>387</td>\n      <td>10</td>\n      <td>53</td>\n      <td>0</td>\n      <td>6</td>\n      <td>10</td>\n      <td>4</td>\n      <td>1</td>\n      <td>31</td>\n      <td>3</td>\n      <td>12</td>\n      <td>Tuesday</td>\n      <td>39.20</td>\n      <td>0.500000</td>\n      <td>3</td>\n      <td>2</td>\n      <td>0</td>\n      <td>1</td>\n      <td>2</td>\n      <td>1.6</td>\n      <td>2586</td>\n    </tr>\n    <tr>\n      <th>5</th>\n      <td>6</td>\n      <td>5</td>\n      <td>0</td>\n      <td>3</td>\n      <td>151</td>\n      <td>338</td>\n      <td>0</td>\n      <td>0</td>\n      <td>0</td>\n      <td>162</td>\n      <td>0</td>\n      <td>0</td>\n      <td>0</td>\n      <td>395</td>\n      <td>0</td>\n      <td>0</td>\n      <td>0</td>\n      <td>0</td>\n      <td>0</td>\n      <td>0</td>\n      <td>0</td>\n      <td>0</td>\n      <td>21</td>\n      <td>0</td>\n      <td>0</td>\n      <td>0</td>\n      <td>0</td>\n      <td>0</td>\n      <td>79</td>\n      <td>0</td>\n      <td>0</td>\n      <td>0</td>\n      <td>0</td>\n      <td>0</td>\n      <td>0</td>\n      <td>0</td>\n      <td>81</td>\n      <td>0</td>\n      <td>0</td>\n      <td>0</td>\n      <td>0</td>\n      <td>96</td>\n      <td>0</td>\n      <td>0</td>\n      <td>0</td>\n      <td>0</td>\n      <td>0</td>\n      <td>0</td>\n      <td>5</td>\n      <td>0</td>\n      <td>1</td>\n      <td>0</td>\n      <td>1</td>\n      <td>0</td>\n      <td>4</td>\n      <td>1</td>\n      <td>3</td>\n      <td>197</td>\n      <td>23</td>\n      <td>15</td>\n      <td>5</td>\n      <td>6</td>\n      <td>0</td>\n      <td>6</td>\n      <td>0</td>\n      <td>5</td>\n      <td>121</td>\n      <td>65</td>\n      <td>0</td>\n      <td>8</td>\n      <td>192</td>\n      <td>0</td>\n      <td>199</td>\n      <td>30</td>\n      <td>8</td>\n      <td>23</td>\n      <td>16</td>\n      <td>1</td>\n      <td>25</td>\n      <td>0</td>\n      <td>0</td>\n      <td>46</td>\n      <td>482</td>\n      <td>1</td>\n      <td>43</td>\n      <td>0</td>\n      <td>1</td>\n      <td>6</td>\n      <td>2</td>\n      <td>1</td>\n      <td>42</td>\n      <td>0</td>\n      <td>0</td>\n      <td>Saturday</td>\n      <td>0.00</td>\n      <td>0.000000</td>\n      <td>3</td>\n      <td>0</td>\n      <td>0</td>\n      <td>0</td>\n      <td>0</td>\n      <td>0.0</td>\n      <td>1542</td>\n    </tr>\n    <tr>\n      <th>6</th>\n      <td>10</td>\n      <td>7</td>\n      <td>1</td>\n      <td>4</td>\n      <td>151</td>\n      <td>338</td>\n      <td>0</td>\n      <td>0</td>\n      <td>0</td>\n      <td>162</td>\n      <td>25</td>\n      <td>0</td>\n      <td>0</td>\n      <td>395</td>\n      <td>0</td>\n      <td>0</td>\n      <td>0</td>\n      <td>0</td>\n      <td>0</td>\n      <td>0</td>\n      <td>0</td>\n      <td>0</td>\n      <td>21</td>\n      <td>0</td>\n      <td>0</td>\n      <td>0</td>\n      <td>0</td>\n      <td>0</td>\n      <td>79</td>\n      <td>0</td>\n      <td>0</td>\n      <td>0</td>\n      <td>267</td>\n      <td>106</td>\n      <td>0</td>\n      <td>0</td>\n      <td>81</td>\n      <td>0</td>\n      <td>0</td>\n      <td>0</td>\n      <td>0</td>\n      <td>96</td>\n      <td>0</td>\n      <td>0</td>\n      <td>0</td>\n      <td>0</td>\n      <td>0</td>\n      <td>0</td>\n      <td>5</td>\n      <td>1</td>\n      <td>1</td>\n      <td>0</td>\n      <td>1</td>\n      <td>0</td>\n      <td>4</td>\n      <td>1</td>\n      <td>3</td>\n      <td>235</td>\n      <td>23</td>\n      <td>16</td>\n      <td>5</td>\n      <td>6</td>\n      <td>0</td>\n      <td>6</td>\n      <td>0</td>\n      <td>6</td>\n      <td>168</td>\n      <td>65</td>\n      <td>37</td>\n      <td>24</td>\n      <td>287</td>\n      <td>0</td>\n      <td>240</td>\n      <td>45</td>\n      <td>8</td>\n      <td>23</td>\n      <td>18</td>\n      <td>1</td>\n      <td>43</td>\n      <td>0</td>\n      <td>0</td>\n      <td>49</td>\n      <td>521</td>\n      <td>1</td>\n      <td>44</td>\n      <td>0</td>\n      <td>1</td>\n      <td>6</td>\n      <td>3</td>\n      <td>1</td>\n      <td>8</td>\n      <td>1</td>\n      <td>0</td>\n      <td>Tuesday</td>\n      <td>7.00</td>\n      <td>0.500000</td>\n      <td>0</td>\n      <td>1</td>\n      <td>0</td>\n      <td>0</td>\n      <td>1</td>\n      <td>1.5</td>\n      <td>1898</td>\n    </tr>\n    <tr>\n      <th>7</th>\n      <td>11</td>\n      <td>7</td>\n      <td>2</td>\n      <td>5</td>\n      <td>151</td>\n      <td>338</td>\n      <td>0</td>\n      <td>0</td>\n      <td>0</td>\n      <td>162</td>\n      <td>25</td>\n      <td>0</td>\n      <td>0</td>\n      <td>395</td>\n      <td>0</td>\n      <td>0</td>\n      <td>0</td>\n      <td>0</td>\n      <td>0</td>\n      <td>0</td>\n      <td>11</td>\n      <td>0</td>\n      <td>21</td>\n      <td>0</td>\n      <td>0</td>\n      <td>0</td>\n      <td>0</td>\n      <td>0</td>\n      <td>79</td>\n      <td>0</td>\n      <td>0</td>\n      <td>0</td>\n      <td>267</td>\n      <td>106</td>\n      <td>0</td>\n      <td>0</td>\n      <td>81</td>\n      <td>0</td>\n      <td>0</td>\n      <td>0</td>\n      <td>0</td>\n      <td>96</td>\n      <td>0</td>\n      <td>0</td>\n      <td>0</td>\n      <td>0</td>\n      <td>0</td>\n      <td>0</td>\n      <td>5</td>\n      <td>5</td>\n      <td>1</td>\n      <td>0</td>\n      <td>1</td>\n      <td>0</td>\n      <td>4</td>\n      <td>1</td>\n      <td>3</td>\n      <td>240</td>\n      <td>27</td>\n      <td>19</td>\n      <td>5</td>\n      <td>6</td>\n      <td>0</td>\n      <td>6</td>\n      <td>0</td>\n      <td>7</td>\n      <td>176</td>\n      <td>65</td>\n      <td>37</td>\n      <td>27</td>\n      <td>301</td>\n      <td>0</td>\n      <td>246</td>\n      <td>45</td>\n      <td>14</td>\n      <td>27</td>\n      <td>21</td>\n      <td>1</td>\n      <td>47</td>\n      <td>0</td>\n      <td>0</td>\n      <td>50</td>\n      <td>577</td>\n      <td>2</td>\n      <td>44</td>\n      <td>0</td>\n      <td>2</td>\n      <td>6</td>\n      <td>3</td>\n      <td>1</td>\n      <td>31</td>\n      <td>1</td>\n      <td>4</td>\n      <td>Tuesday</td>\n      <td>35.00</td>\n      <td>0.333333</td>\n      <td>2</td>\n      <td>2</td>\n      <td>0</td>\n      <td>0</td>\n      <td>1</td>\n      <td>1.0</td>\n      <td>2022</td>\n    </tr>\n    <tr>\n      <th>8</th>\n      <td>0</td>\n      <td>0</td>\n      <td>1</td>\n      <td>0</td>\n      <td>0</td>\n      <td>0</td>\n      <td>0</td>\n      <td>0</td>\n      <td>0</td>\n      <td>0</td>\n      <td>0</td>\n      <td>0</td>\n      <td>0</td>\n      <td>0</td>\n      <td>0</td>\n      <td>0</td>\n      <td>0</td>\n      <td>0</td>\n      <td>0</td>\n      <td>0</td>\n      <td>0</td>\n      <td>0</td>\n      <td>0</td>\n      <td>0</td>\n      <td>0</td>\n      <td>0</td>\n      <td>0</td>\n      <td>0</td>\n      <td>0</td>\n      <td>0</td>\n      <td>0</td>\n      <td>0</td>\n      <td>0</td>\n      <td>0</td>\n      <td>0</td>\n      <td>0</td>\n      <td>0</td>\n      <td>0</td>\n      <td>0</td>\n      <td>0</td>\n      <td>0</td>\n      <td>0</td>\n      <td>0</td>\n      <td>0</td>\n      <td>0</td>\n      <td>0</td>\n      <td>0</td>\n      <td>0</td>\n      <td>0</td>\n      <td>0</td>\n      <td>0</td>\n      <td>0</td>\n      <td>0</td>\n      <td>0</td>\n      <td>0</td>\n      <td>0</td>\n      <td>0</td>\n      <td>0</td>\n      <td>0</td>\n      <td>0</td>\n      <td>0</td>\n      <td>0</td>\n      <td>0</td>\n      <td>0</td>\n      <td>0</td>\n      <td>0</td>\n      <td>0</td>\n      <td>0</td>\n      <td>0</td>\n      <td>0</td>\n      <td>0</td>\n      <td>0</td>\n      <td>1</td>\n      <td>0</td>\n      <td>0</td>\n      <td>0</td>\n      <td>0</td>\n      <td>0</td>\n      <td>1</td>\n      <td>0</td>\n      <td>0</td>\n      <td>0</td>\n      <td>0</td>\n      <td>1</td>\n      <td>0</td>\n      <td>0</td>\n      <td>0</td>\n      <td>0</td>\n      <td>0</td>\n      <td>0</td>\n      <td>31</td>\n      <td>0</td>\n      <td>0</td>\n      <td>Sunday</td>\n      <td>0.00</td>\n      <td>0.000000</td>\n      <td>3</td>\n      <td>1</td>\n      <td>0</td>\n      <td>0</td>\n      <td>0</td>\n      <td>0.0</td>\n      <td>3</td>\n    </tr>\n    <tr>\n      <th>9</th>\n      <td>1</td>\n      <td>0</td>\n      <td>0</td>\n      <td>0</td>\n      <td>0</td>\n      <td>0</td>\n      <td>0</td>\n      <td>0</td>\n      <td>0</td>\n      <td>0</td>\n      <td>0</td>\n      <td>0</td>\n      <td>0</td>\n      <td>0</td>\n      <td>0</td>\n      <td>0</td>\n      <td>0</td>\n      <td>0</td>\n      <td>0</td>\n      <td>0</td>\n      <td>0</td>\n      <td>0</td>\n      <td>0</td>\n      <td>0</td>\n      <td>0</td>\n      <td>0</td>\n      <td>0</td>\n      <td>0</td>\n      <td>0</td>\n      <td>0</td>\n      <td>0</td>\n      <td>0</td>\n      <td>0</td>\n      <td>0</td>\n      <td>0</td>\n      <td>0</td>\n      <td>0</td>\n      <td>0</td>\n      <td>0</td>\n      <td>0</td>\n      <td>0</td>\n      <td>0</td>\n      <td>0</td>\n      <td>0</td>\n      <td>0</td>\n      <td>0</td>\n      <td>0</td>\n      <td>0</td>\n      <td>0</td>\n      <td>0</td>\n      <td>0</td>\n      <td>0</td>\n      <td>0</td>\n      <td>0</td>\n      <td>0</td>\n      <td>0</td>\n      <td>0</td>\n      <td>0</td>\n      <td>0</td>\n      <td>0</td>\n      <td>0</td>\n      <td>0</td>\n      <td>0</td>\n      <td>0</td>\n      <td>0</td>\n      <td>0</td>\n      <td>0</td>\n      <td>0</td>\n      <td>0</td>\n      <td>0</td>\n      <td>0</td>\n      <td>0</td>\n      <td>0</td>\n      <td>0</td>\n      <td>0</td>\n      <td>0</td>\n      <td>0</td>\n      <td>0</td>\n      <td>6</td>\n      <td>0</td>\n      <td>0</td>\n      <td>0</td>\n      <td>0</td>\n      <td>0</td>\n      <td>0</td>\n      <td>0</td>\n      <td>0</td>\n      <td>0</td>\n      <td>0</td>\n      <td>0</td>\n      <td>8</td>\n      <td>0</td>\n      <td>0</td>\n      <td>Thursday</td>\n      <td>0.00</td>\n      <td>0.000000</td>\n      <td>2</td>\n      <td>0</td>\n      <td>0</td>\n      <td>0</td>\n      <td>0</td>\n      <td>0.0</td>\n      <td>6</td>\n    </tr>\n  </tbody>\n</table>\n</div>",
      "text/plain": "   Clip  Activity  Assessment  Game  Dino Dive  Sandcastle Builder (Activity)  \\\n0     6         3           0     2          0                             89   \n1     8         4           1     4          0                             89   \n2     8         4           2     4          0                             89   \n3    15         9           3     7          0                            126   \n4    17        10           3     9          0                            126   \n5     6         5           0     3        151                            338   \n6    10         7           1     4        151                            338   \n7    11         7           2     5        151                            338   \n8     0         0           1     0          0                              0   \n9     1         0           0     0          0                              0   \n\n   Chest Sorter (Assessment)  Crystal Caves - Level 2  Dino Drink  \\\n0                          0                        0           0   \n1                          0                        0           0   \n2                          0                        0           0   \n3                          0                        0         110   \n4                          0                        0         110   \n5                          0                        0           0   \n6                          0                        0           0   \n7                          0                        0           0   \n8                          0                        0           0   \n9                          0                        0           0   \n\n   Scrub-A-Dub  Pan Balance  Magma Peak - Level 1  \\\n0          115            0                     0   \n1          115            0                     0   \n2          115            0                     0   \n3          195            0                     0   \n4          195            0                     0   \n5          162            0                     0   \n6          162           25                     0   \n7          162           25                     0   \n8            0            0                     0   \n9            0            0                     0   \n\n   Mushroom Sorter (Assessment)  Bottle Filler (Activity)  \\\n0                             0                         0   \n1                             0                         0   \n2                             0                         0   \n3                             0                       165   \n4                             0                       165   \n5                             0                       395   \n6                             0                       395   \n7                             0                       395   \n8                             0                         0   \n9                             0                         0   \n\n   Crystal Caves - Level 1  Tree Top City - Level 3  Slop Problem  \\\n0                        0                        0             0   \n1                        0                        0             0   \n2                        0                        0             0   \n3                        0                        0             0   \n4                        0                        0             0   \n5                        0                        0             0   \n6                        0                        0             0   \n7                        0                        0             0   \n8                        0                        0             0   \n9                        0                        0             0   \n\n   Cart Balancer (Assessment)  Tree Top City - Level 1  \\\n0                           0                        0   \n1                           0                        0   \n2                           0                        0   \n3                           0                        0   \n4                           0                        0   \n5                           0                        0   \n6                           0                        0   \n7                           0                        0   \n8                           0                        0   \n9                           0                        0   \n\n   Tree Top City - Level 2  Crystals Rule  Pirate's Tale  \\\n0                        0              0              0   \n1                        0             78              0   \n2                        0             78              0   \n3                        0             78              0   \n4                        0            310              0   \n5                        0              0              0   \n6                        0              0              0   \n7                        0             11              0   \n8                        0              0              0   \n9                        0              0              0   \n\n   Watering Hole (Activity)  Ordering Spheres  Leaf Leader  \\\n0                         0                 0            0   \n1                         0                 0            0   \n2                         0                 0            0   \n3                        80                 0            0   \n4                        80                 0            0   \n5                        21                 0            0   \n6                        21                 0            0   \n7                        21                 0            0   \n8                         0                 0            0   \n9                         0                 0            0   \n\n   Crystal Caves - Level 3  Rulers  Magma Peak - Level 2  \\\n0                        0       0                     0   \n1                        0       0                     0   \n2                        0       0                     0   \n3                        0       0                     0   \n4                        0       0                     0   \n5                        0       0                     0   \n6                        0       0                     0   \n7                        0       0                     0   \n8                        0       0                     0   \n9                        0       0                     0   \n\n   Bug Measurer (Activity)  All Star Sorting  Air Show  Balancing Act  \\\n0                        0               163         0              0   \n1                      104               163       193              0   \n2                      104               163       193              0   \n3                      104               229       193              0   \n4                      184               229       336              0   \n5                       79                 0         0              0   \n6                       79                 0         0              0   \n7                       79                 0         0              0   \n8                        0                 0         0              0   \n9                        0                 0         0              0   \n\n   Flower Waterer (Activity)  Chicken Balancer (Activity)  Costume Box  \\\n0                        164                            0            0   \n1                        164                            0            0   \n2                        164                            0            0   \n3                        254                            0            0   \n4                        254                            0            0   \n5                          0                            0            0   \n6                        267                          106            0   \n7                        267                          106            0   \n8                          0                            0            0   \n9                          0                            0            0   \n\n   Bird Measurer (Assessment)  Chow Time  Lifting Heavy Things  Treasure Map  \\\n0                           0          0                     0             0   \n1                           0          0                     0             0   \n2                           0          0                     0             0   \n3                           0          0                     0             0   \n4                           0          0                     0             0   \n5                           0         81                     0             0   \n6                           0         81                     0             0   \n7                           0         81                     0             0   \n8                           0          0                     0             0   \n9                           0          0                     0             0   \n\n   Egg Dropper (Activity)  Honey Cake  Bubble Bath  Fireworks (Activity)  \\\n0                       0           0            0                    91   \n1                       0           0            0                    91   \n2                       0           0            0                    91   \n3                       0           0          133                  1611   \n4                       0           0          133                  1611   \n5                       0           0           96                     0   \n6                       0           0           96                     0   \n7                       0           0           96                     0   \n8                       0           0            0                     0   \n9                       0           0            0                     0   \n\n   Welcome to Lost Lagoon!  12 Monkeys  Heavy, Heavier, Heaviest  \\\n0                        0           0                         0   \n1                        0           0                         0   \n2                        0           0                         0   \n3                        0           0                         0   \n4                        0           0                         0   \n5                        0           0                         0   \n6                        0           0                         0   \n7                        0           0                         0   \n8                        0           0                         0   \n9                        0           0                         0   \n\n   Cauldron Filler (Assessment)  Happy Camel  2050  4100  2060  4110  2070  \\\n0                             0            0     6     0     0     0     0   \n1                             0            0     6     5     1     2     1   \n2                             0            0     6     5     1    13     1   \n3                             0            0     9     6     2    13     2   \n4                             0            0     9    12     3    13     2   \n5                             0            0     5     0     1     0     1   \n6                             0            0     5     1     1     0     1   \n7                             0            0     5     5     1     0     1   \n8                             0            0     0     0     0     0     0   \n9                             0            0     0     0     0     0     0   \n\n   2075  2080  2081  2083  3110  3120  3121  4220  4230  5000  4235  5010  \\\n0     0     4     1     2    77     7     9     0     0     0     0     0   \n1     0     4     1     2   223    11    16     0     0     0     0     0   \n2     0     4     1     2   225    22    16     0     0     0     0     0   \n3     0     8     2     5   336    25    40     9     0     5     0     5   \n4     1     8     2     5   457    30    53     9     0     5     0     5   \n5     0     4     1     3   197    23    15     5     6     0     6     0   \n6     0     4     1     3   235    23    16     5     6     0     6     0   \n7     0     4     1     3   240    27    19     5     6     0     6     0   \n8     0     0     0     0     0     0     0     0     0     0     0     0   \n9     0     0     0     0     0     0     0     0     0     0     0     0   \n\n   4010  4020  4021  4022  4025  4030  4031  3010  4035  4040  3020  3021  \\\n0     4    92    14    31    19   121     0    79     1     0     7     9   \n1     6   127    14    31    37   149     0   226     6     2    11    16   \n2     6   127    14    31    59   171     0   228     6     2    22    16   \n3    10   243    29    45    93   314     6   341    14     9    25    40   \n4    12   277    29    45   105   331     6   463    15    10    30    53   \n5     5   121    65     0     8   192     0   199    30     8    23    16   \n6     6   168    65    37    24   287     0   240    45     8    23    18   \n7     7   176    65    37    27   301     0   246    45    14    27    21   \n8     0     0     0     0     0     0     0     1     0     0     0     0   \n9     0     0     0     0     0     0     0     0     0     0     0     0   \n\n   4045  2000  4050  2010  2020  4070  2025  2030  4080  2035  2040  4090  \\\n0     0    18     0     0    20    94     4    18     0     0     6     4   \n1     0    25     0     1    26   156     5    22     0     1     6     4   \n2     0    26     0     1    27   160     5    22     0     1     6     4   \n3     2    47     0     2    52   348     9    43     0     5    10     4   \n4     2    56     0     3    64   387    10    53     0     6    10     4   \n5     1    25     0     0    46   482     1    43     0     1     6     2   \n6     1    43     0     0    49   521     1    44     0     1     6     3   \n7     1    47     0     0    50   577     2    44     0     2     6     3   \n8     0     1     0     0     0     0     1     0     0     0     0     0   \n9     0     6     0     0     0     0     0     0     0     0     0     0   \n\n   4095  session_title  accumu_win_n  accumu_loss_n day_of_the_week  \\\n0     0              8             0              0         Tuesday   \n1     0             31             1              0         Tuesday   \n2     0              8             1             11         Tuesday   \n3     1              8             2             11         Tuesday   \n4     1             31             3             12         Tuesday   \n5     1             42             0              0        Saturday   \n6     1              8             1              0         Tuesday   \n7     1             31             1              4         Tuesday   \n8     0             31             0              0          Sunday   \n9     0              8             0              0        Thursday   \n\n   duration_mean  accuracy_ave  accuracy_group  0  1  2  3  \\\n0           0.00      0.000000               3  0  0  0  0   \n1          39.00      1.000000               0  0  0  0  1   \n2          65.50      0.500000               3  1  0  0  1   \n3          41.25      0.500000               2  2  0  0  2   \n4          39.20      0.500000               3  2  0  1  2   \n5           0.00      0.000000               3  0  0  0  0   \n6           7.00      0.500000               0  1  0  0  1   \n7          35.00      0.333333               2  2  0  0  1   \n8           0.00      0.000000               3  1  0  0  0   \n9           0.00      0.000000               2  0  0  0  0   \n\n   accuracy_group_ave  accumu_actions  \n0                 0.0             647  \n1                 3.0            1143  \n2                 1.5            1230  \n3                 1.5            2159  \n4                 1.6            2586  \n5                 0.0            1542  \n6                 1.5            1898  \n7                 1.0            2022  \n8                 0.0               3  \n9                 0.0               6  "
     },
     "execution_count": 33,
     "metadata": {},
     "output_type": "execute_result"
    }
   ],
   "source": [
    "new_train.head(10)"
   ]
  },
  {
   "cell_type": "code",
   "execution_count": 34,
   "metadata": {},
   "outputs": [
    {
     "name": "stderr",
     "output_type": "stream",
     "text": "C:\\Users\\Jie Huang\\AppData\\Local\\Continuum\\anaconda3\\envs\\pbskids\\lib\\site-packages\\ipykernel_launcher.py:4: TqdmDeprecationWarning: This function will be removed in tqdm==5.0.0\nPlease use `tqdm.notebook.tqdm` instead of `tqdm.tqdm_notebook`\n  after removing the cwd from sys.path.\n\n"
    },
    {
     "data": {
      "application/vnd.jupyter.widget-view+json": {
       "model_id": "9cbd1d2a650143bfa3f2deb9b72aa449",
       "version_major": 2,
       "version_minor": 0
      },
      "text/plain": "HBox(children=(FloatProgress(value=0.0, max=1000.0), HTML(value='')))"
     },
     "metadata": {},
     "output_type": "display_data"
    }
   ],
   "source": [
    "# process test set, the same that was done with the train set\n",
    "new_test = []\n",
    "for ins_id, user_sample in tqdm(test.groupby('installation_id',sort=False),\n",
    "                                total=1000):\n",
    "    new_test.append(get_data(user_sample, test_set=True))\n",
    "    \n",
    "new_test = pd.DataFrame(new_test)"
   ]
  },
  {
   "cell_type": "code",
   "execution_count": 35,
   "metadata": {},
   "outputs": [
    {
     "data": {
      "text/html": "<div>\n<style scoped>\n    .dataframe tbody tr th:only-of-type {\n        vertical-align: middle;\n    }\n\n    .dataframe tbody tr th {\n        vertical-align: top;\n    }\n\n    .dataframe thead th {\n        text-align: right;\n    }\n</style>\n<table border=\"1\" class=\"dataframe\">\n  <thead>\n    <tr style=\"text-align: right;\">\n      <th></th>\n      <th>Clip</th>\n      <th>Activity</th>\n      <th>Assessment</th>\n      <th>Game</th>\n      <th>Dino Dive</th>\n      <th>Sandcastle Builder (Activity)</th>\n      <th>Chest Sorter (Assessment)</th>\n      <th>Crystal Caves - Level 2</th>\n      <th>Dino Drink</th>\n      <th>Scrub-A-Dub</th>\n      <th>Pan Balance</th>\n      <th>Magma Peak - Level 1</th>\n      <th>Mushroom Sorter (Assessment)</th>\n      <th>Bottle Filler (Activity)</th>\n      <th>Crystal Caves - Level 1</th>\n      <th>Tree Top City - Level 3</th>\n      <th>Slop Problem</th>\n      <th>Cart Balancer (Assessment)</th>\n      <th>Tree Top City - Level 1</th>\n      <th>Tree Top City - Level 2</th>\n      <th>Crystals Rule</th>\n      <th>Pirate's Tale</th>\n      <th>Watering Hole (Activity)</th>\n      <th>Ordering Spheres</th>\n      <th>Leaf Leader</th>\n      <th>Crystal Caves - Level 3</th>\n      <th>Rulers</th>\n      <th>Magma Peak - Level 2</th>\n      <th>Bug Measurer (Activity)</th>\n      <th>All Star Sorting</th>\n      <th>Air Show</th>\n      <th>Balancing Act</th>\n      <th>Flower Waterer (Activity)</th>\n      <th>Chicken Balancer (Activity)</th>\n      <th>Costume Box</th>\n      <th>Bird Measurer (Assessment)</th>\n      <th>Chow Time</th>\n      <th>Lifting Heavy Things</th>\n      <th>Treasure Map</th>\n      <th>Egg Dropper (Activity)</th>\n      <th>Honey Cake</th>\n      <th>Bubble Bath</th>\n      <th>Fireworks (Activity)</th>\n      <th>Welcome to Lost Lagoon!</th>\n      <th>12 Monkeys</th>\n      <th>Heavy, Heavier, Heaviest</th>\n      <th>Cauldron Filler (Assessment)</th>\n      <th>Happy Camel</th>\n      <th>2050</th>\n      <th>4100</th>\n      <th>2060</th>\n      <th>4110</th>\n      <th>2070</th>\n      <th>2075</th>\n      <th>2080</th>\n      <th>2081</th>\n      <th>2083</th>\n      <th>3110</th>\n      <th>3120</th>\n      <th>3121</th>\n      <th>4220</th>\n      <th>4230</th>\n      <th>5000</th>\n      <th>4235</th>\n      <th>5010</th>\n      <th>4010</th>\n      <th>4020</th>\n      <th>4021</th>\n      <th>4022</th>\n      <th>4025</th>\n      <th>4030</th>\n      <th>4031</th>\n      <th>3010</th>\n      <th>4035</th>\n      <th>4040</th>\n      <th>3020</th>\n      <th>3021</th>\n      <th>4045</th>\n      <th>2000</th>\n      <th>4050</th>\n      <th>2010</th>\n      <th>2020</th>\n      <th>4070</th>\n      <th>2025</th>\n      <th>2030</th>\n      <th>4080</th>\n      <th>2035</th>\n      <th>2040</th>\n      <th>4090</th>\n      <th>4095</th>\n      <th>session_title</th>\n      <th>accumu_win_n</th>\n      <th>accumu_loss_n</th>\n      <th>day_of_the_week</th>\n      <th>duration_mean</th>\n      <th>accuracy_ave</th>\n      <th>accuracy_group</th>\n      <th>0</th>\n      <th>1</th>\n      <th>2</th>\n      <th>3</th>\n      <th>accuracy_group_ave</th>\n      <th>accumu_actions</th>\n    </tr>\n  </thead>\n  <tbody>\n    <tr>\n      <th>0</th>\n      <td>5</td>\n      <td>3</td>\n      <td>1</td>\n      <td>3</td>\n      <td>188</td>\n      <td>90</td>\n      <td>0</td>\n      <td>0</td>\n      <td>0</td>\n      <td>0</td>\n      <td>0</td>\n      <td>0</td>\n      <td>0</td>\n      <td>0</td>\n      <td>0</td>\n      <td>0</td>\n      <td>0</td>\n      <td>0</td>\n      <td>0</td>\n      <td>0</td>\n      <td>0</td>\n      <td>0</td>\n      <td>0</td>\n      <td>0</td>\n      <td>0</td>\n      <td>0</td>\n      <td>0</td>\n      <td>0</td>\n      <td>33</td>\n      <td>1960</td>\n      <td>0</td>\n      <td>0</td>\n      <td>0</td>\n      <td>0</td>\n      <td>0</td>\n      <td>0</td>\n      <td>135</td>\n      <td>0</td>\n      <td>0</td>\n      <td>88</td>\n      <td>0</td>\n      <td>0</td>\n      <td>194</td>\n      <td>0</td>\n      <td>0</td>\n      <td>0</td>\n      <td>0</td>\n      <td>0</td>\n      <td>0</td>\n      <td>1</td>\n      <td>1</td>\n      <td>0</td>\n      <td>1</td>\n      <td>0</td>\n      <td>0</td>\n      <td>0</td>\n      <td>0</td>\n      <td>108</td>\n      <td>33</td>\n      <td>9</td>\n      <td>0</td>\n      <td>0</td>\n      <td>0</td>\n      <td>0</td>\n      <td>0</td>\n      <td>3</td>\n      <td>120</td>\n      <td>12</td>\n      <td>0</td>\n      <td>10</td>\n      <td>148</td>\n      <td>0</td>\n      <td>111</td>\n      <td>33</td>\n      <td>0</td>\n      <td>33</td>\n      <td>9</td>\n      <td>0</td>\n      <td>25</td>\n      <td>0</td>\n      <td>1</td>\n      <td>11</td>\n      <td>190</td>\n      <td>1</td>\n      <td>7</td>\n      <td>0</td>\n      <td>0</td>\n      <td>0</td>\n      <td>0</td>\n      <td>0</td>\n      <td>42</td>\n      <td>1</td>\n      <td>0</td>\n      <td>Thursday</td>\n      <td>30.000000</td>\n      <td>1.000000</td>\n      <td>0</td>\n      <td>0</td>\n      <td>0</td>\n      <td>0</td>\n      <td>1</td>\n      <td>3.000000</td>\n      <td>867</td>\n    </tr>\n    <tr>\n      <th>1</th>\n      <td>16</td>\n      <td>11</td>\n      <td>5</td>\n      <td>11</td>\n      <td>155</td>\n      <td>334</td>\n      <td>0</td>\n      <td>0</td>\n      <td>159</td>\n      <td>162</td>\n      <td>129</td>\n      <td>0</td>\n      <td>0</td>\n      <td>348</td>\n      <td>0</td>\n      <td>0</td>\n      <td>0</td>\n      <td>0</td>\n      <td>0</td>\n      <td>0</td>\n      <td>169</td>\n      <td>0</td>\n      <td>73</td>\n      <td>0</td>\n      <td>67</td>\n      <td>0</td>\n      <td>0</td>\n      <td>0</td>\n      <td>74</td>\n      <td>64</td>\n      <td>123</td>\n      <td>0</td>\n      <td>178</td>\n      <td>108</td>\n      <td>0</td>\n      <td>0</td>\n      <td>110</td>\n      <td>0</td>\n      <td>0</td>\n      <td>317</td>\n      <td>0</td>\n      <td>96</td>\n      <td>173</td>\n      <td>0</td>\n      <td>0</td>\n      <td>0</td>\n      <td>0</td>\n      <td>181</td>\n      <td>6</td>\n      <td>23</td>\n      <td>4</td>\n      <td>3</td>\n      <td>1</td>\n      <td>3</td>\n      <td>10</td>\n      <td>2</td>\n      <td>7</td>\n      <td>416</td>\n      <td>25</td>\n      <td>72</td>\n      <td>9</td>\n      <td>0</td>\n      <td>4</td>\n      <td>0</td>\n      <td>4</td>\n      <td>12</td>\n      <td>325</td>\n      <td>26</td>\n      <td>36</td>\n      <td>94</td>\n      <td>407</td>\n      <td>11</td>\n      <td>418</td>\n      <td>49</td>\n      <td>25</td>\n      <td>25</td>\n      <td>72</td>\n      <td>6</td>\n      <td>57</td>\n      <td>0</td>\n      <td>4</td>\n      <td>85</td>\n      <td>385</td>\n      <td>2</td>\n      <td>80</td>\n      <td>0</td>\n      <td>2</td>\n      <td>6</td>\n      <td>2</td>\n      <td>0</td>\n      <td>13</td>\n      <td>4</td>\n      <td>7</td>\n      <td>Wednesday</td>\n      <td>49.600000</td>\n      <td>0.466667</td>\n      <td>0</td>\n      <td>1</td>\n      <td>1</td>\n      <td>2</td>\n      <td>1</td>\n      <td>1.600000</td>\n      <td>2718</td>\n    </tr>\n    <tr>\n      <th>2</th>\n      <td>2</td>\n      <td>2</td>\n      <td>0</td>\n      <td>0</td>\n      <td>0</td>\n      <td>0</td>\n      <td>0</td>\n      <td>0</td>\n      <td>0</td>\n      <td>0</td>\n      <td>0</td>\n      <td>0</td>\n      <td>0</td>\n      <td>0</td>\n      <td>0</td>\n      <td>0</td>\n      <td>0</td>\n      <td>0</td>\n      <td>0</td>\n      <td>0</td>\n      <td>0</td>\n      <td>0</td>\n      <td>0</td>\n      <td>0</td>\n      <td>0</td>\n      <td>0</td>\n      <td>0</td>\n      <td>0</td>\n      <td>0</td>\n      <td>0</td>\n      <td>0</td>\n      <td>0</td>\n      <td>51</td>\n      <td>0</td>\n      <td>0</td>\n      <td>0</td>\n      <td>0</td>\n      <td>0</td>\n      <td>0</td>\n      <td>0</td>\n      <td>0</td>\n      <td>0</td>\n      <td>60</td>\n      <td>0</td>\n      <td>0</td>\n      <td>0</td>\n      <td>0</td>\n      <td>0</td>\n      <td>0</td>\n      <td>0</td>\n      <td>0</td>\n      <td>0</td>\n      <td>0</td>\n      <td>0</td>\n      <td>0</td>\n      <td>0</td>\n      <td>0</td>\n      <td>24</td>\n      <td>0</td>\n      <td>0</td>\n      <td>0</td>\n      <td>0</td>\n      <td>0</td>\n      <td>0</td>\n      <td>0</td>\n      <td>0</td>\n      <td>15</td>\n      <td>0</td>\n      <td>20</td>\n      <td>4</td>\n      <td>40</td>\n      <td>0</td>\n      <td>24</td>\n      <td>0</td>\n      <td>0</td>\n      <td>0</td>\n      <td>0</td>\n      <td>0</td>\n      <td>8</td>\n      <td>0</td>\n      <td>0</td>\n      <td>0</td>\n      <td>14</td>\n      <td>0</td>\n      <td>0</td>\n      <td>0</td>\n      <td>0</td>\n      <td>0</td>\n      <td>0</td>\n      <td>0</td>\n      <td>8</td>\n      <td>0</td>\n      <td>0</td>\n      <td>Saturday</td>\n      <td>0.000000</td>\n      <td>0.000000</td>\n      <td>0</td>\n      <td>0</td>\n      <td>0</td>\n      <td>0</td>\n      <td>0</td>\n      <td>0.000000</td>\n      <td>149</td>\n    </tr>\n    <tr>\n      <th>3</th>\n      <td>4</td>\n      <td>2</td>\n      <td>0</td>\n      <td>1</td>\n      <td>0</td>\n      <td>0</td>\n      <td>0</td>\n      <td>0</td>\n      <td>0</td>\n      <td>0</td>\n      <td>0</td>\n      <td>0</td>\n      <td>0</td>\n      <td>0</td>\n      <td>0</td>\n      <td>0</td>\n      <td>0</td>\n      <td>0</td>\n      <td>0</td>\n      <td>0</td>\n      <td>0</td>\n      <td>0</td>\n      <td>0</td>\n      <td>0</td>\n      <td>0</td>\n      <td>0</td>\n      <td>0</td>\n      <td>0</td>\n      <td>0</td>\n      <td>77</td>\n      <td>0</td>\n      <td>0</td>\n      <td>85</td>\n      <td>0</td>\n      <td>0</td>\n      <td>0</td>\n      <td>0</td>\n      <td>0</td>\n      <td>0</td>\n      <td>0</td>\n      <td>0</td>\n      <td>0</td>\n      <td>25</td>\n      <td>0</td>\n      <td>0</td>\n      <td>0</td>\n      <td>0</td>\n      <td>0</td>\n      <td>0</td>\n      <td>0</td>\n      <td>0</td>\n      <td>0</td>\n      <td>0</td>\n      <td>0</td>\n      <td>0</td>\n      <td>0</td>\n      <td>0</td>\n      <td>21</td>\n      <td>2</td>\n      <td>3</td>\n      <td>0</td>\n      <td>0</td>\n      <td>0</td>\n      <td>0</td>\n      <td>0</td>\n      <td>1</td>\n      <td>31</td>\n      <td>0</td>\n      <td>29</td>\n      <td>9</td>\n      <td>61</td>\n      <td>0</td>\n      <td>21</td>\n      <td>0</td>\n      <td>0</td>\n      <td>2</td>\n      <td>3</td>\n      <td>0</td>\n      <td>13</td>\n      <td>0</td>\n      <td>0</td>\n      <td>3</td>\n      <td>28</td>\n      <td>2</td>\n      <td>3</td>\n      <td>0</td>\n      <td>0</td>\n      <td>0</td>\n      <td>1</td>\n      <td>0</td>\n      <td>8</td>\n      <td>0</td>\n      <td>0</td>\n      <td>Saturday</td>\n      <td>0.000000</td>\n      <td>0.000000</td>\n      <td>0</td>\n      <td>0</td>\n      <td>0</td>\n      <td>0</td>\n      <td>0</td>\n      <td>0.000000</td>\n      <td>233</td>\n    </tr>\n    <tr>\n      <th>4</th>\n      <td>5</td>\n      <td>1</td>\n      <td>0</td>\n      <td>4</td>\n      <td>0</td>\n      <td>0</td>\n      <td>0</td>\n      <td>0</td>\n      <td>0</td>\n      <td>0</td>\n      <td>0</td>\n      <td>0</td>\n      <td>0</td>\n      <td>0</td>\n      <td>0</td>\n      <td>0</td>\n      <td>0</td>\n      <td>0</td>\n      <td>0</td>\n      <td>0</td>\n      <td>0</td>\n      <td>0</td>\n      <td>0</td>\n      <td>0</td>\n      <td>0</td>\n      <td>0</td>\n      <td>0</td>\n      <td>0</td>\n      <td>0</td>\n      <td>610</td>\n      <td>0</td>\n      <td>0</td>\n      <td>0</td>\n      <td>221</td>\n      <td>0</td>\n      <td>0</td>\n      <td>218</td>\n      <td>0</td>\n      <td>0</td>\n      <td>0</td>\n      <td>0</td>\n      <td>0</td>\n      <td>0</td>\n      <td>0</td>\n      <td>0</td>\n      <td>0</td>\n      <td>0</td>\n      <td>155</td>\n      <td>0</td>\n      <td>0</td>\n      <td>0</td>\n      <td>0</td>\n      <td>0</td>\n      <td>0</td>\n      <td>1</td>\n      <td>0</td>\n      <td>1</td>\n      <td>73</td>\n      <td>27</td>\n      <td>27</td>\n      <td>0</td>\n      <td>0</td>\n      <td>0</td>\n      <td>0</td>\n      <td>0</td>\n      <td>6</td>\n      <td>146</td>\n      <td>0</td>\n      <td>3</td>\n      <td>0</td>\n      <td>231</td>\n      <td>0</td>\n      <td>75</td>\n      <td>62</td>\n      <td>16</td>\n      <td>27</td>\n      <td>27</td>\n      <td>4</td>\n      <td>24</td>\n      <td>0</td>\n      <td>0</td>\n      <td>28</td>\n      <td>134</td>\n      <td>9</td>\n      <td>25</td>\n      <td>0</td>\n      <td>0</td>\n      <td>0</td>\n      <td>0</td>\n      <td>5</td>\n      <td>13</td>\n      <td>0</td>\n      <td>0</td>\n      <td>Friday</td>\n      <td>0.000000</td>\n      <td>0.000000</td>\n      <td>0</td>\n      <td>0</td>\n      <td>0</td>\n      <td>0</td>\n      <td>0</td>\n      <td>0.000000</td>\n      <td>951</td>\n    </tr>\n    <tr>\n      <th>5</th>\n      <td>5</td>\n      <td>3</td>\n      <td>1</td>\n      <td>2</td>\n      <td>0</td>\n      <td>0</td>\n      <td>0</td>\n      <td>0</td>\n      <td>0</td>\n      <td>0</td>\n      <td>405</td>\n      <td>0</td>\n      <td>0</td>\n      <td>0</td>\n      <td>0</td>\n      <td>0</td>\n      <td>0</td>\n      <td>0</td>\n      <td>0</td>\n      <td>0</td>\n      <td>0</td>\n      <td>0</td>\n      <td>435</td>\n      <td>0</td>\n      <td>0</td>\n      <td>0</td>\n      <td>0</td>\n      <td>0</td>\n      <td>0</td>\n      <td>0</td>\n      <td>0</td>\n      <td>0</td>\n      <td>0</td>\n      <td>364</td>\n      <td>0</td>\n      <td>0</td>\n      <td>90</td>\n      <td>0</td>\n      <td>0</td>\n      <td>0</td>\n      <td>0</td>\n      <td>0</td>\n      <td>0</td>\n      <td>0</td>\n      <td>0</td>\n      <td>0</td>\n      <td>0</td>\n      <td>0</td>\n      <td>0</td>\n      <td>18</td>\n      <td>0</td>\n      <td>0</td>\n      <td>0</td>\n      <td>0</td>\n      <td>0</td>\n      <td>0</td>\n      <td>0</td>\n      <td>74</td>\n      <td>8</td>\n      <td>19</td>\n      <td>0</td>\n      <td>0</td>\n      <td>16</td>\n      <td>0</td>\n      <td>16</td>\n      <td>2</td>\n      <td>124</td>\n      <td>43</td>\n      <td>3</td>\n      <td>52</td>\n      <td>139</td>\n      <td>0</td>\n      <td>74</td>\n      <td>28</td>\n      <td>0</td>\n      <td>8</td>\n      <td>19</td>\n      <td>0</td>\n      <td>13</td>\n      <td>0</td>\n      <td>1</td>\n      <td>19</td>\n      <td>136</td>\n      <td>0</td>\n      <td>18</td>\n      <td>0</td>\n      <td>0</td>\n      <td>0</td>\n      <td>2</td>\n      <td>0</td>\n      <td>13</td>\n      <td>1</td>\n      <td>0</td>\n      <td>Sunday</td>\n      <td>27.000000</td>\n      <td>1.000000</td>\n      <td>0</td>\n      <td>0</td>\n      <td>0</td>\n      <td>0</td>\n      <td>1</td>\n      <td>3.000000</td>\n      <td>832</td>\n    </tr>\n    <tr>\n      <th>6</th>\n      <td>5</td>\n      <td>1</td>\n      <td>0</td>\n      <td>3</td>\n      <td>0</td>\n      <td>0</td>\n      <td>0</td>\n      <td>0</td>\n      <td>577</td>\n      <td>0</td>\n      <td>0</td>\n      <td>0</td>\n      <td>0</td>\n      <td>0</td>\n      <td>0</td>\n      <td>0</td>\n      <td>0</td>\n      <td>0</td>\n      <td>0</td>\n      <td>0</td>\n      <td>0</td>\n      <td>0</td>\n      <td>0</td>\n      <td>0</td>\n      <td>0</td>\n      <td>0</td>\n      <td>0</td>\n      <td>0</td>\n      <td>0</td>\n      <td>393</td>\n      <td>0</td>\n      <td>0</td>\n      <td>0</td>\n      <td>0</td>\n      <td>0</td>\n      <td>0</td>\n      <td>696</td>\n      <td>0</td>\n      <td>0</td>\n      <td>0</td>\n      <td>0</td>\n      <td>0</td>\n      <td>167</td>\n      <td>0</td>\n      <td>0</td>\n      <td>0</td>\n      <td>0</td>\n      <td>0</td>\n      <td>0</td>\n      <td>0</td>\n      <td>2</td>\n      <td>0</td>\n      <td>2</td>\n      <td>0</td>\n      <td>0</td>\n      <td>0</td>\n      <td>0</td>\n      <td>85</td>\n      <td>48</td>\n      <td>53</td>\n      <td>0</td>\n      <td>0</td>\n      <td>0</td>\n      <td>0</td>\n      <td>0</td>\n      <td>5</td>\n      <td>125</td>\n      <td>0</td>\n      <td>0</td>\n      <td>0</td>\n      <td>147</td>\n      <td>21</td>\n      <td>88</td>\n      <td>23</td>\n      <td>0</td>\n      <td>48</td>\n      <td>53</td>\n      <td>0</td>\n      <td>20</td>\n      <td>0</td>\n      <td>0</td>\n      <td>37</td>\n      <td>84</td>\n      <td>4</td>\n      <td>33</td>\n      <td>0</td>\n      <td>0</td>\n      <td>0</td>\n      <td>0</td>\n      <td>9</td>\n      <td>8</td>\n      <td>0</td>\n      <td>0</td>\n      <td>Tuesday</td>\n      <td>0.000000</td>\n      <td>0.000000</td>\n      <td>0</td>\n      <td>0</td>\n      <td>0</td>\n      <td>0</td>\n      <td>0</td>\n      <td>0.000000</td>\n      <td>887</td>\n    </tr>\n    <tr>\n      <th>7</th>\n      <td>12</td>\n      <td>8</td>\n      <td>8</td>\n      <td>7</td>\n      <td>0</td>\n      <td>52</td>\n      <td>0</td>\n      <td>0</td>\n      <td>0</td>\n      <td>20</td>\n      <td>0</td>\n      <td>0</td>\n      <td>0</td>\n      <td>291</td>\n      <td>0</td>\n      <td>0</td>\n      <td>0</td>\n      <td>0</td>\n      <td>0</td>\n      <td>0</td>\n      <td>0</td>\n      <td>0</td>\n      <td>20</td>\n      <td>0</td>\n      <td>83</td>\n      <td>0</td>\n      <td>0</td>\n      <td>0</td>\n      <td>82</td>\n      <td>88</td>\n      <td>141</td>\n      <td>0</td>\n      <td>212</td>\n      <td>143</td>\n      <td>0</td>\n      <td>0</td>\n      <td>127</td>\n      <td>0</td>\n      <td>0</td>\n      <td>175</td>\n      <td>0</td>\n      <td>0</td>\n      <td>182</td>\n      <td>0</td>\n      <td>0</td>\n      <td>0</td>\n      <td>0</td>\n      <td>88</td>\n      <td>0</td>\n      <td>12</td>\n      <td>3</td>\n      <td>1</td>\n      <td>0</td>\n      <td>3</td>\n      <td>2</td>\n      <td>1</td>\n      <td>1</td>\n      <td>240</td>\n      <td>12</td>\n      <td>29</td>\n      <td>0</td>\n      <td>0</td>\n      <td>0</td>\n      <td>0</td>\n      <td>0</td>\n      <td>7</td>\n      <td>272</td>\n      <td>9</td>\n      <td>44</td>\n      <td>50</td>\n      <td>369</td>\n      <td>0</td>\n      <td>244</td>\n      <td>61</td>\n      <td>22</td>\n      <td>12</td>\n      <td>30</td>\n      <td>2</td>\n      <td>42</td>\n      <td>0</td>\n      <td>7</td>\n      <td>43</td>\n      <td>227</td>\n      <td>2</td>\n      <td>35</td>\n      <td>0</td>\n      <td>2</td>\n      <td>1</td>\n      <td>0</td>\n      <td>0</td>\n      <td>31</td>\n      <td>7</td>\n      <td>2</td>\n      <td>Monday</td>\n      <td>34.555556</td>\n      <td>0.703704</td>\n      <td>0</td>\n      <td>2</td>\n      <td>1</td>\n      <td>0</td>\n      <td>6</td>\n      <td>2.111111</td>\n      <td>1785</td>\n    </tr>\n    <tr>\n      <th>8</th>\n      <td>4</td>\n      <td>3</td>\n      <td>2</td>\n      <td>5</td>\n      <td>248</td>\n      <td>59</td>\n      <td>0</td>\n      <td>0</td>\n      <td>0</td>\n      <td>309</td>\n      <td>0</td>\n      <td>0</td>\n      <td>0</td>\n      <td>28</td>\n      <td>0</td>\n      <td>0</td>\n      <td>0</td>\n      <td>0</td>\n      <td>0</td>\n      <td>0</td>\n      <td>174</td>\n      <td>0</td>\n      <td>0</td>\n      <td>0</td>\n      <td>0</td>\n      <td>0</td>\n      <td>0</td>\n      <td>0</td>\n      <td>139</td>\n      <td>0</td>\n      <td>0</td>\n      <td>0</td>\n      <td>0</td>\n      <td>0</td>\n      <td>0</td>\n      <td>0</td>\n      <td>213</td>\n      <td>0</td>\n      <td>0</td>\n      <td>0</td>\n      <td>0</td>\n      <td>143</td>\n      <td>0</td>\n      <td>0</td>\n      <td>0</td>\n      <td>0</td>\n      <td>0</td>\n      <td>0</td>\n      <td>9</td>\n      <td>2</td>\n      <td>1</td>\n      <td>13</td>\n      <td>1</td>\n      <td>0</td>\n      <td>8</td>\n      <td>0</td>\n      <td>8</td>\n      <td>235</td>\n      <td>102</td>\n      <td>41</td>\n      <td>0</td>\n      <td>8</td>\n      <td>0</td>\n      <td>8</td>\n      <td>0</td>\n      <td>6</td>\n      <td>140</td>\n      <td>10</td>\n      <td>0</td>\n      <td>47</td>\n      <td>164</td>\n      <td>0</td>\n      <td>239</td>\n      <td>41</td>\n      <td>13</td>\n      <td>103</td>\n      <td>41</td>\n      <td>2</td>\n      <td>21</td>\n      <td>0</td>\n      <td>0</td>\n      <td>59</td>\n      <td>323</td>\n      <td>2</td>\n      <td>50</td>\n      <td>0</td>\n      <td>2</td>\n      <td>10</td>\n      <td>0</td>\n      <td>3</td>\n      <td>2</td>\n      <td>1</td>\n      <td>14</td>\n      <td>Saturday</td>\n      <td>52.000000</td>\n      <td>0.166667</td>\n      <td>0</td>\n      <td>2</td>\n      <td>0</td>\n      <td>1</td>\n      <td>0</td>\n      <td>0.666667</td>\n      <td>1712</td>\n    </tr>\n    <tr>\n      <th>9</th>\n      <td>2</td>\n      <td>0</td>\n      <td>0</td>\n      <td>1</td>\n      <td>0</td>\n      <td>0</td>\n      <td>0</td>\n      <td>0</td>\n      <td>0</td>\n      <td>0</td>\n      <td>0</td>\n      <td>0</td>\n      <td>0</td>\n      <td>0</td>\n      <td>0</td>\n      <td>0</td>\n      <td>0</td>\n      <td>0</td>\n      <td>0</td>\n      <td>0</td>\n      <td>0</td>\n      <td>0</td>\n      <td>0</td>\n      <td>0</td>\n      <td>14</td>\n      <td>0</td>\n      <td>0</td>\n      <td>0</td>\n      <td>0</td>\n      <td>0</td>\n      <td>0</td>\n      <td>0</td>\n      <td>0</td>\n      <td>0</td>\n      <td>0</td>\n      <td>0</td>\n      <td>0</td>\n      <td>0</td>\n      <td>0</td>\n      <td>0</td>\n      <td>0</td>\n      <td>0</td>\n      <td>0</td>\n      <td>0</td>\n      <td>0</td>\n      <td>0</td>\n      <td>0</td>\n      <td>0</td>\n      <td>0</td>\n      <td>0</td>\n      <td>1</td>\n      <td>0</td>\n      <td>0</td>\n      <td>1</td>\n      <td>0</td>\n      <td>0</td>\n      <td>0</td>\n      <td>1</td>\n      <td>0</td>\n      <td>0</td>\n      <td>0</td>\n      <td>0</td>\n      <td>0</td>\n      <td>0</td>\n      <td>0</td>\n      <td>1</td>\n      <td>0</td>\n      <td>0</td>\n      <td>0</td>\n      <td>0</td>\n      <td>0</td>\n      <td>0</td>\n      <td>1</td>\n      <td>0</td>\n      <td>0</td>\n      <td>0</td>\n      <td>0</td>\n      <td>0</td>\n      <td>16</td>\n      <td>0</td>\n      <td>0</td>\n      <td>1</td>\n      <td>1</td>\n      <td>0</td>\n      <td>0</td>\n      <td>0</td>\n      <td>0</td>\n      <td>0</td>\n      <td>0</td>\n      <td>0</td>\n      <td>13</td>\n      <td>0</td>\n      <td>0</td>\n      <td>Sunday</td>\n      <td>0.000000</td>\n      <td>0.000000</td>\n      <td>0</td>\n      <td>0</td>\n      <td>0</td>\n      <td>0</td>\n      <td>0</td>\n      <td>0.000000</td>\n      <td>23</td>\n    </tr>\n  </tbody>\n</table>\n</div>",
      "text/plain": "   Clip  Activity  Assessment  Game  Dino Dive  Sandcastle Builder (Activity)  \\\n0     5         3           1     3        188                             90   \n1    16        11           5    11        155                            334   \n2     2         2           0     0          0                              0   \n3     4         2           0     1          0                              0   \n4     5         1           0     4          0                              0   \n5     5         3           1     2          0                              0   \n6     5         1           0     3          0                              0   \n7    12         8           8     7          0                             52   \n8     4         3           2     5        248                             59   \n9     2         0           0     1          0                              0   \n\n   Chest Sorter (Assessment)  Crystal Caves - Level 2  Dino Drink  \\\n0                          0                        0           0   \n1                          0                        0         159   \n2                          0                        0           0   \n3                          0                        0           0   \n4                          0                        0           0   \n5                          0                        0           0   \n6                          0                        0         577   \n7                          0                        0           0   \n8                          0                        0           0   \n9                          0                        0           0   \n\n   Scrub-A-Dub  Pan Balance  Magma Peak - Level 1  \\\n0            0            0                     0   \n1          162          129                     0   \n2            0            0                     0   \n3            0            0                     0   \n4            0            0                     0   \n5            0          405                     0   \n6            0            0                     0   \n7           20            0                     0   \n8          309            0                     0   \n9            0            0                     0   \n\n   Mushroom Sorter (Assessment)  Bottle Filler (Activity)  \\\n0                             0                         0   \n1                             0                       348   \n2                             0                         0   \n3                             0                         0   \n4                             0                         0   \n5                             0                         0   \n6                             0                         0   \n7                             0                       291   \n8                             0                        28   \n9                             0                         0   \n\n   Crystal Caves - Level 1  Tree Top City - Level 3  Slop Problem  \\\n0                        0                        0             0   \n1                        0                        0             0   \n2                        0                        0             0   \n3                        0                        0             0   \n4                        0                        0             0   \n5                        0                        0             0   \n6                        0                        0             0   \n7                        0                        0             0   \n8                        0                        0             0   \n9                        0                        0             0   \n\n   Cart Balancer (Assessment)  Tree Top City - Level 1  \\\n0                           0                        0   \n1                           0                        0   \n2                           0                        0   \n3                           0                        0   \n4                           0                        0   \n5                           0                        0   \n6                           0                        0   \n7                           0                        0   \n8                           0                        0   \n9                           0                        0   \n\n   Tree Top City - Level 2  Crystals Rule  Pirate's Tale  \\\n0                        0              0              0   \n1                        0            169              0   \n2                        0              0              0   \n3                        0              0              0   \n4                        0              0              0   \n5                        0              0              0   \n6                        0              0              0   \n7                        0              0              0   \n8                        0            174              0   \n9                        0              0              0   \n\n   Watering Hole (Activity)  Ordering Spheres  Leaf Leader  \\\n0                         0                 0            0   \n1                        73                 0           67   \n2                         0                 0            0   \n3                         0                 0            0   \n4                         0                 0            0   \n5                       435                 0            0   \n6                         0                 0            0   \n7                        20                 0           83   \n8                         0                 0            0   \n9                         0                 0           14   \n\n   Crystal Caves - Level 3  Rulers  Magma Peak - Level 2  \\\n0                        0       0                     0   \n1                        0       0                     0   \n2                        0       0                     0   \n3                        0       0                     0   \n4                        0       0                     0   \n5                        0       0                     0   \n6                        0       0                     0   \n7                        0       0                     0   \n8                        0       0                     0   \n9                        0       0                     0   \n\n   Bug Measurer (Activity)  All Star Sorting  Air Show  Balancing Act  \\\n0                       33              1960         0              0   \n1                       74                64       123              0   \n2                        0                 0         0              0   \n3                        0                77         0              0   \n4                        0               610         0              0   \n5                        0                 0         0              0   \n6                        0               393         0              0   \n7                       82                88       141              0   \n8                      139                 0         0              0   \n9                        0                 0         0              0   \n\n   Flower Waterer (Activity)  Chicken Balancer (Activity)  Costume Box  \\\n0                          0                            0            0   \n1                        178                          108            0   \n2                         51                            0            0   \n3                         85                            0            0   \n4                          0                          221            0   \n5                          0                          364            0   \n6                          0                            0            0   \n7                        212                          143            0   \n8                          0                            0            0   \n9                          0                            0            0   \n\n   Bird Measurer (Assessment)  Chow Time  Lifting Heavy Things  Treasure Map  \\\n0                           0        135                     0             0   \n1                           0        110                     0             0   \n2                           0          0                     0             0   \n3                           0          0                     0             0   \n4                           0        218                     0             0   \n5                           0         90                     0             0   \n6                           0        696                     0             0   \n7                           0        127                     0             0   \n8                           0        213                     0             0   \n9                           0          0                     0             0   \n\n   Egg Dropper (Activity)  Honey Cake  Bubble Bath  Fireworks (Activity)  \\\n0                      88           0            0                   194   \n1                     317           0           96                   173   \n2                       0           0            0                    60   \n3                       0           0            0                    25   \n4                       0           0            0                     0   \n5                       0           0            0                     0   \n6                       0           0            0                   167   \n7                     175           0            0                   182   \n8                       0           0          143                     0   \n9                       0           0            0                     0   \n\n   Welcome to Lost Lagoon!  12 Monkeys  Heavy, Heavier, Heaviest  \\\n0                        0           0                         0   \n1                        0           0                         0   \n2                        0           0                         0   \n3                        0           0                         0   \n4                        0           0                         0   \n5                        0           0                         0   \n6                        0           0                         0   \n7                        0           0                         0   \n8                        0           0                         0   \n9                        0           0                         0   \n\n   Cauldron Filler (Assessment)  Happy Camel  2050  4100  2060  4110  2070  \\\n0                             0            0     0     1     1     0     1   \n1                             0          181     6    23     4     3     1   \n2                             0            0     0     0     0     0     0   \n3                             0            0     0     0     0     0     0   \n4                             0          155     0     0     0     0     0   \n5                             0            0     0    18     0     0     0   \n6                             0            0     0     0     2     0     2   \n7                             0           88     0    12     3     1     0   \n8                             0            0     9     2     1    13     1   \n9                             0            0     0     0     1     0     0   \n\n   2075  2080  2081  2083  3110  3120  3121  4220  4230  5000  4235  5010  \\\n0     0     0     0     0   108    33     9     0     0     0     0     0   \n1     3    10     2     7   416    25    72     9     0     4     0     4   \n2     0     0     0     0    24     0     0     0     0     0     0     0   \n3     0     0     0     0    21     2     3     0     0     0     0     0   \n4     0     1     0     1    73    27    27     0     0     0     0     0   \n5     0     0     0     0    74     8    19     0     0    16     0    16   \n6     0     0     0     0    85    48    53     0     0     0     0     0   \n7     3     2     1     1   240    12    29     0     0     0     0     0   \n8     0     8     0     8   235   102    41     0     8     0     8     0   \n9     1     0     0     0     1     0     0     0     0     0     0     0   \n\n   4010  4020  4021  4022  4025  4030  4031  3010  4035  4040  3020  3021  \\\n0     3   120    12     0    10   148     0   111    33     0    33     9   \n1    12   325    26    36    94   407    11   418    49    25    25    72   \n2     0    15     0    20     4    40     0    24     0     0     0     0   \n3     1    31     0    29     9    61     0    21     0     0     2     3   \n4     6   146     0     3     0   231     0    75    62    16    27    27   \n5     2   124    43     3    52   139     0    74    28     0     8    19   \n6     5   125     0     0     0   147    21    88    23     0    48    53   \n7     7   272     9    44    50   369     0   244    61    22    12    30   \n8     6   140    10     0    47   164     0   239    41    13   103    41   \n9     1     0     0     0     0     0     0     1     0     0     0     0   \n\n   4045  2000  4050  2010  2020  4070  2025  2030  4080  2035  2040  4090  \\\n0     0    25     0     1    11   190     1     7     0     0     0     0   \n1     6    57     0     4    85   385     2    80     0     2     6     2   \n2     0     8     0     0     0    14     0     0     0     0     0     0   \n3     0    13     0     0     3    28     2     3     0     0     0     1   \n4     4    24     0     0    28   134     9    25     0     0     0     0   \n5     0    13     0     1    19   136     0    18     0     0     0     2   \n6     0    20     0     0    37    84     4    33     0     0     0     0   \n7     2    42     0     7    43   227     2    35     0     2     1     0   \n8     2    21     0     0    59   323     2    50     0     2    10     0   \n9     0    16     0     0     1     1     0     0     0     0     0     0   \n\n   4095  session_title  accumu_win_n  accumu_loss_n day_of_the_week  \\\n0     0             42             1              0        Thursday   \n1     0             13             4              7       Wednesday   \n2     0              8             0              0        Saturday   \n3     0              8             0              0        Saturday   \n4     5             13             0              0          Friday   \n5     0             13             1              0          Sunday   \n6     9              8             0              0         Tuesday   \n7     0             31             7              2          Monday   \n8     3              2             1             14        Saturday   \n9     0             13             0              0          Sunday   \n\n   duration_mean  accuracy_ave  accuracy_group  0  1  2  3  \\\n0      30.000000      1.000000               0  0  0  0  1   \n1      49.600000      0.466667               0  1  1  2  1   \n2       0.000000      0.000000               0  0  0  0  0   \n3       0.000000      0.000000               0  0  0  0  0   \n4       0.000000      0.000000               0  0  0  0  0   \n5      27.000000      1.000000               0  0  0  0  1   \n6       0.000000      0.000000               0  0  0  0  0   \n7      34.555556      0.703704               0  2  1  0  6   \n8      52.000000      0.166667               0  2  0  1  0   \n9       0.000000      0.000000               0  0  0  0  0   \n\n   accuracy_group_ave  accumu_actions  \n0            3.000000             867  \n1            1.600000            2718  \n2            0.000000             149  \n3            0.000000             233  \n4            0.000000             951  \n5            3.000000             832  \n6            0.000000             887  \n7            2.111111            1785  \n8            0.666667            1712  \n9            0.000000              23  "
     },
     "execution_count": 35,
     "metadata": {},
     "output_type": "execute_result"
    }
   ],
   "source": [
    "new_test.head(10)"
   ]
  },
  {
   "cell_type": "code",
   "execution_count": 36,
   "metadata": {},
   "outputs": [],
   "source": [
    "# all_features but 'accuracy_group', that is the label y\n",
    "all_features = [x for x in new_train.columns if x not in ['accuracy_group']]\n",
    "# categorical feature\n",
    "categorical_features = ['session_title','day_of_the_week']"
   ]
  },
  {
   "cell_type": "code",
   "execution_count": 37,
   "metadata": {},
   "outputs": [],
   "source": [
    "# Encode categorical_features to integer(for use with LightGB,XGBoost,etc)\n",
    "\n",
    "# concatnate train and test data\n",
    "temp_df = pd.concat([new_train[all_features], new_test[all_features]])\n",
    "# encode\n",
    "encoder = ce.ordinal.OrdinalEncoder(cols = categorical_features)\n",
    "temp_df = encoder.fit_transform(temp_df)\n",
    "# dataset\n",
    "X, y = temp_df.iloc[:len(new_train),:], new_train['accuracy_group']\n",
    "X_test = temp_df.iloc[len(new_train):,:]"
   ]
  },
  {
   "cell_type": "code",
   "execution_count": 38,
   "metadata": {},
   "outputs": [
    {
     "data": {
      "text/html": "<div>\n<style scoped>\n    .dataframe tbody tr th:only-of-type {\n        vertical-align: middle;\n    }\n\n    .dataframe tbody tr th {\n        vertical-align: top;\n    }\n\n    .dataframe thead th {\n        text-align: right;\n    }\n</style>\n<table border=\"1\" class=\"dataframe\">\n  <thead>\n    <tr style=\"text-align: right;\">\n      <th></th>\n      <th>Clip</th>\n      <th>Activity</th>\n      <th>Assessment</th>\n      <th>Game</th>\n      <th>Dino Dive</th>\n      <th>Sandcastle Builder (Activity)</th>\n      <th>Chest Sorter (Assessment)</th>\n      <th>Crystal Caves - Level 2</th>\n      <th>Dino Drink</th>\n      <th>Scrub-A-Dub</th>\n      <th>Pan Balance</th>\n      <th>Magma Peak - Level 1</th>\n      <th>Mushroom Sorter (Assessment)</th>\n      <th>Bottle Filler (Activity)</th>\n      <th>Crystal Caves - Level 1</th>\n      <th>Tree Top City - Level 3</th>\n      <th>Slop Problem</th>\n      <th>Cart Balancer (Assessment)</th>\n      <th>Tree Top City - Level 1</th>\n      <th>Tree Top City - Level 2</th>\n      <th>Crystals Rule</th>\n      <th>Pirate's Tale</th>\n      <th>Watering Hole (Activity)</th>\n      <th>Ordering Spheres</th>\n      <th>Leaf Leader</th>\n      <th>Crystal Caves - Level 3</th>\n      <th>Rulers</th>\n      <th>Magma Peak - Level 2</th>\n      <th>Bug Measurer (Activity)</th>\n      <th>All Star Sorting</th>\n      <th>Air Show</th>\n      <th>Balancing Act</th>\n      <th>Flower Waterer (Activity)</th>\n      <th>Chicken Balancer (Activity)</th>\n      <th>Costume Box</th>\n      <th>Bird Measurer (Assessment)</th>\n      <th>Chow Time</th>\n      <th>Lifting Heavy Things</th>\n      <th>Treasure Map</th>\n      <th>Egg Dropper (Activity)</th>\n      <th>Honey Cake</th>\n      <th>Bubble Bath</th>\n      <th>Fireworks (Activity)</th>\n      <th>Welcome to Lost Lagoon!</th>\n      <th>12 Monkeys</th>\n      <th>Heavy, Heavier, Heaviest</th>\n      <th>Cauldron Filler (Assessment)</th>\n      <th>Happy Camel</th>\n      <th>2050</th>\n      <th>4100</th>\n      <th>2060</th>\n      <th>4110</th>\n      <th>2070</th>\n      <th>2075</th>\n      <th>2080</th>\n      <th>2081</th>\n      <th>2083</th>\n      <th>3110</th>\n      <th>3120</th>\n      <th>3121</th>\n      <th>4220</th>\n      <th>4230</th>\n      <th>5000</th>\n      <th>4235</th>\n      <th>5010</th>\n      <th>4010</th>\n      <th>4020</th>\n      <th>4021</th>\n      <th>4022</th>\n      <th>4025</th>\n      <th>4030</th>\n      <th>4031</th>\n      <th>3010</th>\n      <th>4035</th>\n      <th>4040</th>\n      <th>3020</th>\n      <th>3021</th>\n      <th>4045</th>\n      <th>2000</th>\n      <th>4050</th>\n      <th>2010</th>\n      <th>2020</th>\n      <th>4070</th>\n      <th>2025</th>\n      <th>2030</th>\n      <th>4080</th>\n      <th>2035</th>\n      <th>2040</th>\n      <th>4090</th>\n      <th>4095</th>\n      <th>session_title</th>\n      <th>accumu_win_n</th>\n      <th>accumu_loss_n</th>\n      <th>day_of_the_week</th>\n      <th>duration_mean</th>\n      <th>accuracy_ave</th>\n      <th>0</th>\n      <th>1</th>\n      <th>2</th>\n      <th>3</th>\n      <th>accuracy_group_ave</th>\n      <th>accumu_actions</th>\n    </tr>\n  </thead>\n  <tbody>\n    <tr>\n      <th>0</th>\n      <td>6</td>\n      <td>3</td>\n      <td>0</td>\n      <td>2</td>\n      <td>0</td>\n      <td>89</td>\n      <td>0</td>\n      <td>0</td>\n      <td>0</td>\n      <td>115</td>\n      <td>0</td>\n      <td>0</td>\n      <td>0</td>\n      <td>0</td>\n      <td>0</td>\n      <td>0</td>\n      <td>0</td>\n      <td>0</td>\n      <td>0</td>\n      <td>0</td>\n      <td>0</td>\n      <td>0</td>\n      <td>0</td>\n      <td>0</td>\n      <td>0</td>\n      <td>0</td>\n      <td>0</td>\n      <td>0</td>\n      <td>0</td>\n      <td>163</td>\n      <td>0</td>\n      <td>0</td>\n      <td>164</td>\n      <td>0</td>\n      <td>0</td>\n      <td>0</td>\n      <td>0</td>\n      <td>0</td>\n      <td>0</td>\n      <td>0</td>\n      <td>0</td>\n      <td>0</td>\n      <td>91</td>\n      <td>0</td>\n      <td>0</td>\n      <td>0</td>\n      <td>0</td>\n      <td>0</td>\n      <td>6</td>\n      <td>0</td>\n      <td>0</td>\n      <td>0</td>\n      <td>0</td>\n      <td>0</td>\n      <td>4</td>\n      <td>1</td>\n      <td>2</td>\n      <td>77</td>\n      <td>7</td>\n      <td>9</td>\n      <td>0</td>\n      <td>0</td>\n      <td>0</td>\n      <td>0</td>\n      <td>0</td>\n      <td>4</td>\n      <td>92</td>\n      <td>14</td>\n      <td>31</td>\n      <td>19</td>\n      <td>121</td>\n      <td>0</td>\n      <td>79</td>\n      <td>1</td>\n      <td>0</td>\n      <td>7</td>\n      <td>9</td>\n      <td>0</td>\n      <td>18</td>\n      <td>0</td>\n      <td>0</td>\n      <td>20</td>\n      <td>94</td>\n      <td>4</td>\n      <td>18</td>\n      <td>0</td>\n      <td>0</td>\n      <td>6</td>\n      <td>4</td>\n      <td>0</td>\n      <td>1</td>\n      <td>0</td>\n      <td>0</td>\n      <td>1</td>\n      <td>0.00</td>\n      <td>0.0</td>\n      <td>0</td>\n      <td>0</td>\n      <td>0</td>\n      <td>0</td>\n      <td>0.0</td>\n      <td>647</td>\n    </tr>\n    <tr>\n      <th>1</th>\n      <td>8</td>\n      <td>4</td>\n      <td>1</td>\n      <td>4</td>\n      <td>0</td>\n      <td>89</td>\n      <td>0</td>\n      <td>0</td>\n      <td>0</td>\n      <td>115</td>\n      <td>0</td>\n      <td>0</td>\n      <td>0</td>\n      <td>0</td>\n      <td>0</td>\n      <td>0</td>\n      <td>0</td>\n      <td>0</td>\n      <td>0</td>\n      <td>0</td>\n      <td>78</td>\n      <td>0</td>\n      <td>0</td>\n      <td>0</td>\n      <td>0</td>\n      <td>0</td>\n      <td>0</td>\n      <td>0</td>\n      <td>104</td>\n      <td>163</td>\n      <td>193</td>\n      <td>0</td>\n      <td>164</td>\n      <td>0</td>\n      <td>0</td>\n      <td>0</td>\n      <td>0</td>\n      <td>0</td>\n      <td>0</td>\n      <td>0</td>\n      <td>0</td>\n      <td>0</td>\n      <td>91</td>\n      <td>0</td>\n      <td>0</td>\n      <td>0</td>\n      <td>0</td>\n      <td>0</td>\n      <td>6</td>\n      <td>5</td>\n      <td>1</td>\n      <td>2</td>\n      <td>1</td>\n      <td>0</td>\n      <td>4</td>\n      <td>1</td>\n      <td>2</td>\n      <td>223</td>\n      <td>11</td>\n      <td>16</td>\n      <td>0</td>\n      <td>0</td>\n      <td>0</td>\n      <td>0</td>\n      <td>0</td>\n      <td>6</td>\n      <td>127</td>\n      <td>14</td>\n      <td>31</td>\n      <td>37</td>\n      <td>149</td>\n      <td>0</td>\n      <td>226</td>\n      <td>6</td>\n      <td>2</td>\n      <td>11</td>\n      <td>16</td>\n      <td>0</td>\n      <td>25</td>\n      <td>0</td>\n      <td>1</td>\n      <td>26</td>\n      <td>156</td>\n      <td>5</td>\n      <td>22</td>\n      <td>0</td>\n      <td>1</td>\n      <td>6</td>\n      <td>4</td>\n      <td>0</td>\n      <td>2</td>\n      <td>1</td>\n      <td>0</td>\n      <td>1</td>\n      <td>39.00</td>\n      <td>1.0</td>\n      <td>0</td>\n      <td>0</td>\n      <td>0</td>\n      <td>1</td>\n      <td>3.0</td>\n      <td>1143</td>\n    </tr>\n    <tr>\n      <th>2</th>\n      <td>8</td>\n      <td>4</td>\n      <td>2</td>\n      <td>4</td>\n      <td>0</td>\n      <td>89</td>\n      <td>0</td>\n      <td>0</td>\n      <td>0</td>\n      <td>115</td>\n      <td>0</td>\n      <td>0</td>\n      <td>0</td>\n      <td>0</td>\n      <td>0</td>\n      <td>0</td>\n      <td>0</td>\n      <td>0</td>\n      <td>0</td>\n      <td>0</td>\n      <td>78</td>\n      <td>0</td>\n      <td>0</td>\n      <td>0</td>\n      <td>0</td>\n      <td>0</td>\n      <td>0</td>\n      <td>0</td>\n      <td>104</td>\n      <td>163</td>\n      <td>193</td>\n      <td>0</td>\n      <td>164</td>\n      <td>0</td>\n      <td>0</td>\n      <td>0</td>\n      <td>0</td>\n      <td>0</td>\n      <td>0</td>\n      <td>0</td>\n      <td>0</td>\n      <td>0</td>\n      <td>91</td>\n      <td>0</td>\n      <td>0</td>\n      <td>0</td>\n      <td>0</td>\n      <td>0</td>\n      <td>6</td>\n      <td>5</td>\n      <td>1</td>\n      <td>13</td>\n      <td>1</td>\n      <td>0</td>\n      <td>4</td>\n      <td>1</td>\n      <td>2</td>\n      <td>225</td>\n      <td>22</td>\n      <td>16</td>\n      <td>0</td>\n      <td>0</td>\n      <td>0</td>\n      <td>0</td>\n      <td>0</td>\n      <td>6</td>\n      <td>127</td>\n      <td>14</td>\n      <td>31</td>\n      <td>59</td>\n      <td>171</td>\n      <td>0</td>\n      <td>228</td>\n      <td>6</td>\n      <td>2</td>\n      <td>22</td>\n      <td>16</td>\n      <td>0</td>\n      <td>26</td>\n      <td>0</td>\n      <td>1</td>\n      <td>27</td>\n      <td>160</td>\n      <td>5</td>\n      <td>22</td>\n      <td>0</td>\n      <td>1</td>\n      <td>6</td>\n      <td>4</td>\n      <td>0</td>\n      <td>1</td>\n      <td>1</td>\n      <td>11</td>\n      <td>1</td>\n      <td>65.50</td>\n      <td>0.5</td>\n      <td>1</td>\n      <td>0</td>\n      <td>0</td>\n      <td>1</td>\n      <td>1.5</td>\n      <td>1230</td>\n    </tr>\n    <tr>\n      <th>3</th>\n      <td>15</td>\n      <td>9</td>\n      <td>3</td>\n      <td>7</td>\n      <td>0</td>\n      <td>126</td>\n      <td>0</td>\n      <td>0</td>\n      <td>110</td>\n      <td>195</td>\n      <td>0</td>\n      <td>0</td>\n      <td>0</td>\n      <td>165</td>\n      <td>0</td>\n      <td>0</td>\n      <td>0</td>\n      <td>0</td>\n      <td>0</td>\n      <td>0</td>\n      <td>78</td>\n      <td>0</td>\n      <td>80</td>\n      <td>0</td>\n      <td>0</td>\n      <td>0</td>\n      <td>0</td>\n      <td>0</td>\n      <td>104</td>\n      <td>229</td>\n      <td>193</td>\n      <td>0</td>\n      <td>254</td>\n      <td>0</td>\n      <td>0</td>\n      <td>0</td>\n      <td>0</td>\n      <td>0</td>\n      <td>0</td>\n      <td>0</td>\n      <td>0</td>\n      <td>133</td>\n      <td>1611</td>\n      <td>0</td>\n      <td>0</td>\n      <td>0</td>\n      <td>0</td>\n      <td>0</td>\n      <td>9</td>\n      <td>6</td>\n      <td>2</td>\n      <td>13</td>\n      <td>2</td>\n      <td>0</td>\n      <td>8</td>\n      <td>2</td>\n      <td>5</td>\n      <td>336</td>\n      <td>25</td>\n      <td>40</td>\n      <td>9</td>\n      <td>0</td>\n      <td>5</td>\n      <td>0</td>\n      <td>5</td>\n      <td>10</td>\n      <td>243</td>\n      <td>29</td>\n      <td>45</td>\n      <td>93</td>\n      <td>314</td>\n      <td>6</td>\n      <td>341</td>\n      <td>14</td>\n      <td>9</td>\n      <td>25</td>\n      <td>40</td>\n      <td>2</td>\n      <td>47</td>\n      <td>0</td>\n      <td>2</td>\n      <td>52</td>\n      <td>348</td>\n      <td>9</td>\n      <td>43</td>\n      <td>0</td>\n      <td>5</td>\n      <td>10</td>\n      <td>4</td>\n      <td>1</td>\n      <td>1</td>\n      <td>2</td>\n      <td>11</td>\n      <td>1</td>\n      <td>41.25</td>\n      <td>0.5</td>\n      <td>2</td>\n      <td>0</td>\n      <td>0</td>\n      <td>2</td>\n      <td>1.5</td>\n      <td>2159</td>\n    </tr>\n    <tr>\n      <th>4</th>\n      <td>17</td>\n      <td>10</td>\n      <td>3</td>\n      <td>9</td>\n      <td>0</td>\n      <td>126</td>\n      <td>0</td>\n      <td>0</td>\n      <td>110</td>\n      <td>195</td>\n      <td>0</td>\n      <td>0</td>\n      <td>0</td>\n      <td>165</td>\n      <td>0</td>\n      <td>0</td>\n      <td>0</td>\n      <td>0</td>\n      <td>0</td>\n      <td>0</td>\n      <td>310</td>\n      <td>0</td>\n      <td>80</td>\n      <td>0</td>\n      <td>0</td>\n      <td>0</td>\n      <td>0</td>\n      <td>0</td>\n      <td>184</td>\n      <td>229</td>\n      <td>336</td>\n      <td>0</td>\n      <td>254</td>\n      <td>0</td>\n      <td>0</td>\n      <td>0</td>\n      <td>0</td>\n      <td>0</td>\n      <td>0</td>\n      <td>0</td>\n      <td>0</td>\n      <td>133</td>\n      <td>1611</td>\n      <td>0</td>\n      <td>0</td>\n      <td>0</td>\n      <td>0</td>\n      <td>0</td>\n      <td>9</td>\n      <td>12</td>\n      <td>3</td>\n      <td>13</td>\n      <td>2</td>\n      <td>1</td>\n      <td>8</td>\n      <td>2</td>\n      <td>5</td>\n      <td>457</td>\n      <td>30</td>\n      <td>53</td>\n      <td>9</td>\n      <td>0</td>\n      <td>5</td>\n      <td>0</td>\n      <td>5</td>\n      <td>12</td>\n      <td>277</td>\n      <td>29</td>\n      <td>45</td>\n      <td>105</td>\n      <td>331</td>\n      <td>6</td>\n      <td>463</td>\n      <td>15</td>\n      <td>10</td>\n      <td>30</td>\n      <td>53</td>\n      <td>2</td>\n      <td>56</td>\n      <td>0</td>\n      <td>3</td>\n      <td>64</td>\n      <td>387</td>\n      <td>10</td>\n      <td>53</td>\n      <td>0</td>\n      <td>6</td>\n      <td>10</td>\n      <td>4</td>\n      <td>1</td>\n      <td>2</td>\n      <td>3</td>\n      <td>12</td>\n      <td>1</td>\n      <td>39.20</td>\n      <td>0.5</td>\n      <td>2</td>\n      <td>0</td>\n      <td>1</td>\n      <td>2</td>\n      <td>1.6</td>\n      <td>2586</td>\n    </tr>\n  </tbody>\n</table>\n</div>",
      "text/plain": "   Clip  Activity  Assessment  Game  Dino Dive  Sandcastle Builder (Activity)  \\\n0     6         3           0     2          0                             89   \n1     8         4           1     4          0                             89   \n2     8         4           2     4          0                             89   \n3    15         9           3     7          0                            126   \n4    17        10           3     9          0                            126   \n\n   Chest Sorter (Assessment)  Crystal Caves - Level 2  Dino Drink  \\\n0                          0                        0           0   \n1                          0                        0           0   \n2                          0                        0           0   \n3                          0                        0         110   \n4                          0                        0         110   \n\n   Scrub-A-Dub  Pan Balance  Magma Peak - Level 1  \\\n0          115            0                     0   \n1          115            0                     0   \n2          115            0                     0   \n3          195            0                     0   \n4          195            0                     0   \n\n   Mushroom Sorter (Assessment)  Bottle Filler (Activity)  \\\n0                             0                         0   \n1                             0                         0   \n2                             0                         0   \n3                             0                       165   \n4                             0                       165   \n\n   Crystal Caves - Level 1  Tree Top City - Level 3  Slop Problem  \\\n0                        0                        0             0   \n1                        0                        0             0   \n2                        0                        0             0   \n3                        0                        0             0   \n4                        0                        0             0   \n\n   Cart Balancer (Assessment)  Tree Top City - Level 1  \\\n0                           0                        0   \n1                           0                        0   \n2                           0                        0   \n3                           0                        0   \n4                           0                        0   \n\n   Tree Top City - Level 2  Crystals Rule  Pirate's Tale  \\\n0                        0              0              0   \n1                        0             78              0   \n2                        0             78              0   \n3                        0             78              0   \n4                        0            310              0   \n\n   Watering Hole (Activity)  Ordering Spheres  Leaf Leader  \\\n0                         0                 0            0   \n1                         0                 0            0   \n2                         0                 0            0   \n3                        80                 0            0   \n4                        80                 0            0   \n\n   Crystal Caves - Level 3  Rulers  Magma Peak - Level 2  \\\n0                        0       0                     0   \n1                        0       0                     0   \n2                        0       0                     0   \n3                        0       0                     0   \n4                        0       0                     0   \n\n   Bug Measurer (Activity)  All Star Sorting  Air Show  Balancing Act  \\\n0                        0               163         0              0   \n1                      104               163       193              0   \n2                      104               163       193              0   \n3                      104               229       193              0   \n4                      184               229       336              0   \n\n   Flower Waterer (Activity)  Chicken Balancer (Activity)  Costume Box  \\\n0                        164                            0            0   \n1                        164                            0            0   \n2                        164                            0            0   \n3                        254                            0            0   \n4                        254                            0            0   \n\n   Bird Measurer (Assessment)  Chow Time  Lifting Heavy Things  Treasure Map  \\\n0                           0          0                     0             0   \n1                           0          0                     0             0   \n2                           0          0                     0             0   \n3                           0          0                     0             0   \n4                           0          0                     0             0   \n\n   Egg Dropper (Activity)  Honey Cake  Bubble Bath  Fireworks (Activity)  \\\n0                       0           0            0                    91   \n1                       0           0            0                    91   \n2                       0           0            0                    91   \n3                       0           0          133                  1611   \n4                       0           0          133                  1611   \n\n   Welcome to Lost Lagoon!  12 Monkeys  Heavy, Heavier, Heaviest  \\\n0                        0           0                         0   \n1                        0           0                         0   \n2                        0           0                         0   \n3                        0           0                         0   \n4                        0           0                         0   \n\n   Cauldron Filler (Assessment)  Happy Camel  2050  4100  2060  4110  2070  \\\n0                             0            0     6     0     0     0     0   \n1                             0            0     6     5     1     2     1   \n2                             0            0     6     5     1    13     1   \n3                             0            0     9     6     2    13     2   \n4                             0            0     9    12     3    13     2   \n\n   2075  2080  2081  2083  3110  3120  3121  4220  4230  5000  4235  5010  \\\n0     0     4     1     2    77     7     9     0     0     0     0     0   \n1     0     4     1     2   223    11    16     0     0     0     0     0   \n2     0     4     1     2   225    22    16     0     0     0     0     0   \n3     0     8     2     5   336    25    40     9     0     5     0     5   \n4     1     8     2     5   457    30    53     9     0     5     0     5   \n\n   4010  4020  4021  4022  4025  4030  4031  3010  4035  4040  3020  3021  \\\n0     4    92    14    31    19   121     0    79     1     0     7     9   \n1     6   127    14    31    37   149     0   226     6     2    11    16   \n2     6   127    14    31    59   171     0   228     6     2    22    16   \n3    10   243    29    45    93   314     6   341    14     9    25    40   \n4    12   277    29    45   105   331     6   463    15    10    30    53   \n\n   4045  2000  4050  2010  2020  4070  2025  2030  4080  2035  2040  4090  \\\n0     0    18     0     0    20    94     4    18     0     0     6     4   \n1     0    25     0     1    26   156     5    22     0     1     6     4   \n2     0    26     0     1    27   160     5    22     0     1     6     4   \n3     2    47     0     2    52   348     9    43     0     5    10     4   \n4     2    56     0     3    64   387    10    53     0     6    10     4   \n\n   4095  session_title  accumu_win_n  accumu_loss_n  day_of_the_week  \\\n0     0              1             0              0                1   \n1     0              2             1              0                1   \n2     0              1             1             11                1   \n3     1              1             2             11                1   \n4     1              2             3             12                1   \n\n   duration_mean  accuracy_ave  0  1  2  3  accuracy_group_ave  accumu_actions  \n0           0.00           0.0  0  0  0  0                 0.0             647  \n1          39.00           1.0  0  0  0  1                 3.0            1143  \n2          65.50           0.5  1  0  0  1                 1.5            1230  \n3          41.25           0.5  2  0  0  2                 1.5            2159  \n4          39.20           0.5  2  0  1  2                 1.6            2586  "
     },
     "execution_count": 38,
     "metadata": {},
     "output_type": "execute_result"
    }
   ],
   "source": [
    "X.head()"
   ]
  },
  {
   "cell_type": "code",
   "execution_count": 39,
   "metadata": {},
   "outputs": [
    {
     "data": {
      "text/plain": "0    3\n1    0\n2    3\n3    2\n4    3\nName: accuracy_group, dtype: int64"
     },
     "execution_count": 39,
     "metadata": {},
     "output_type": "execute_result"
    }
   ],
   "source": [
    "y.head()"
   ]
  },
  {
   "cell_type": "code",
   "execution_count": 40,
   "metadata": {},
   "outputs": [
    {
     "data": {
      "text/html": "<div>\n<style scoped>\n    .dataframe tbody tr th:only-of-type {\n        vertical-align: middle;\n    }\n\n    .dataframe tbody tr th {\n        vertical-align: top;\n    }\n\n    .dataframe thead th {\n        text-align: right;\n    }\n</style>\n<table border=\"1\" class=\"dataframe\">\n  <thead>\n    <tr style=\"text-align: right;\">\n      <th></th>\n      <th>Clip</th>\n      <th>Activity</th>\n      <th>Assessment</th>\n      <th>Game</th>\n      <th>Dino Dive</th>\n      <th>Sandcastle Builder (Activity)</th>\n      <th>Chest Sorter (Assessment)</th>\n      <th>Crystal Caves - Level 2</th>\n      <th>Dino Drink</th>\n      <th>Scrub-A-Dub</th>\n      <th>Pan Balance</th>\n      <th>Magma Peak - Level 1</th>\n      <th>Mushroom Sorter (Assessment)</th>\n      <th>Bottle Filler (Activity)</th>\n      <th>Crystal Caves - Level 1</th>\n      <th>Tree Top City - Level 3</th>\n      <th>Slop Problem</th>\n      <th>Cart Balancer (Assessment)</th>\n      <th>Tree Top City - Level 1</th>\n      <th>Tree Top City - Level 2</th>\n      <th>Crystals Rule</th>\n      <th>Pirate's Tale</th>\n      <th>Watering Hole (Activity)</th>\n      <th>Ordering Spheres</th>\n      <th>Leaf Leader</th>\n      <th>Crystal Caves - Level 3</th>\n      <th>Rulers</th>\n      <th>Magma Peak - Level 2</th>\n      <th>Bug Measurer (Activity)</th>\n      <th>All Star Sorting</th>\n      <th>Air Show</th>\n      <th>Balancing Act</th>\n      <th>Flower Waterer (Activity)</th>\n      <th>Chicken Balancer (Activity)</th>\n      <th>Costume Box</th>\n      <th>Bird Measurer (Assessment)</th>\n      <th>Chow Time</th>\n      <th>Lifting Heavy Things</th>\n      <th>Treasure Map</th>\n      <th>Egg Dropper (Activity)</th>\n      <th>Honey Cake</th>\n      <th>Bubble Bath</th>\n      <th>Fireworks (Activity)</th>\n      <th>Welcome to Lost Lagoon!</th>\n      <th>12 Monkeys</th>\n      <th>Heavy, Heavier, Heaviest</th>\n      <th>Cauldron Filler (Assessment)</th>\n      <th>Happy Camel</th>\n      <th>2050</th>\n      <th>4100</th>\n      <th>2060</th>\n      <th>4110</th>\n      <th>2070</th>\n      <th>2075</th>\n      <th>2080</th>\n      <th>2081</th>\n      <th>2083</th>\n      <th>3110</th>\n      <th>3120</th>\n      <th>3121</th>\n      <th>4220</th>\n      <th>4230</th>\n      <th>5000</th>\n      <th>4235</th>\n      <th>5010</th>\n      <th>4010</th>\n      <th>4020</th>\n      <th>4021</th>\n      <th>4022</th>\n      <th>4025</th>\n      <th>4030</th>\n      <th>4031</th>\n      <th>3010</th>\n      <th>4035</th>\n      <th>4040</th>\n      <th>3020</th>\n      <th>3021</th>\n      <th>4045</th>\n      <th>2000</th>\n      <th>4050</th>\n      <th>2010</th>\n      <th>2020</th>\n      <th>4070</th>\n      <th>2025</th>\n      <th>2030</th>\n      <th>4080</th>\n      <th>2035</th>\n      <th>2040</th>\n      <th>4090</th>\n      <th>4095</th>\n      <th>session_title</th>\n      <th>accumu_win_n</th>\n      <th>accumu_loss_n</th>\n      <th>day_of_the_week</th>\n      <th>duration_mean</th>\n      <th>accuracy_ave</th>\n      <th>0</th>\n      <th>1</th>\n      <th>2</th>\n      <th>3</th>\n      <th>accuracy_group_ave</th>\n      <th>accumu_actions</th>\n    </tr>\n  </thead>\n  <tbody>\n    <tr>\n      <th>0</th>\n      <td>5</td>\n      <td>3</td>\n      <td>1</td>\n      <td>3</td>\n      <td>188</td>\n      <td>90</td>\n      <td>0</td>\n      <td>0</td>\n      <td>0</td>\n      <td>0</td>\n      <td>0</td>\n      <td>0</td>\n      <td>0</td>\n      <td>0</td>\n      <td>0</td>\n      <td>0</td>\n      <td>0</td>\n      <td>0</td>\n      <td>0</td>\n      <td>0</td>\n      <td>0</td>\n      <td>0</td>\n      <td>0</td>\n      <td>0</td>\n      <td>0</td>\n      <td>0</td>\n      <td>0</td>\n      <td>0</td>\n      <td>33</td>\n      <td>1960</td>\n      <td>0</td>\n      <td>0</td>\n      <td>0</td>\n      <td>0</td>\n      <td>0</td>\n      <td>0</td>\n      <td>135</td>\n      <td>0</td>\n      <td>0</td>\n      <td>88</td>\n      <td>0</td>\n      <td>0</td>\n      <td>194</td>\n      <td>0</td>\n      <td>0</td>\n      <td>0</td>\n      <td>0</td>\n      <td>0</td>\n      <td>0</td>\n      <td>1</td>\n      <td>1</td>\n      <td>0</td>\n      <td>1</td>\n      <td>0</td>\n      <td>0</td>\n      <td>0</td>\n      <td>0</td>\n      <td>108</td>\n      <td>33</td>\n      <td>9</td>\n      <td>0</td>\n      <td>0</td>\n      <td>0</td>\n      <td>0</td>\n      <td>0</td>\n      <td>3</td>\n      <td>120</td>\n      <td>12</td>\n      <td>0</td>\n      <td>10</td>\n      <td>148</td>\n      <td>0</td>\n      <td>111</td>\n      <td>33</td>\n      <td>0</td>\n      <td>33</td>\n      <td>9</td>\n      <td>0</td>\n      <td>25</td>\n      <td>0</td>\n      <td>1</td>\n      <td>11</td>\n      <td>190</td>\n      <td>1</td>\n      <td>7</td>\n      <td>0</td>\n      <td>0</td>\n      <td>0</td>\n      <td>0</td>\n      <td>0</td>\n      <td>3</td>\n      <td>1</td>\n      <td>0</td>\n      <td>4</td>\n      <td>30.0</td>\n      <td>1.000000</td>\n      <td>0</td>\n      <td>0</td>\n      <td>0</td>\n      <td>1</td>\n      <td>3.0</td>\n      <td>867</td>\n    </tr>\n    <tr>\n      <th>1</th>\n      <td>16</td>\n      <td>11</td>\n      <td>5</td>\n      <td>11</td>\n      <td>155</td>\n      <td>334</td>\n      <td>0</td>\n      <td>0</td>\n      <td>159</td>\n      <td>162</td>\n      <td>129</td>\n      <td>0</td>\n      <td>0</td>\n      <td>348</td>\n      <td>0</td>\n      <td>0</td>\n      <td>0</td>\n      <td>0</td>\n      <td>0</td>\n      <td>0</td>\n      <td>169</td>\n      <td>0</td>\n      <td>73</td>\n      <td>0</td>\n      <td>67</td>\n      <td>0</td>\n      <td>0</td>\n      <td>0</td>\n      <td>74</td>\n      <td>64</td>\n      <td>123</td>\n      <td>0</td>\n      <td>178</td>\n      <td>108</td>\n      <td>0</td>\n      <td>0</td>\n      <td>110</td>\n      <td>0</td>\n      <td>0</td>\n      <td>317</td>\n      <td>0</td>\n      <td>96</td>\n      <td>173</td>\n      <td>0</td>\n      <td>0</td>\n      <td>0</td>\n      <td>0</td>\n      <td>181</td>\n      <td>6</td>\n      <td>23</td>\n      <td>4</td>\n      <td>3</td>\n      <td>1</td>\n      <td>3</td>\n      <td>10</td>\n      <td>2</td>\n      <td>7</td>\n      <td>416</td>\n      <td>25</td>\n      <td>72</td>\n      <td>9</td>\n      <td>0</td>\n      <td>4</td>\n      <td>0</td>\n      <td>4</td>\n      <td>12</td>\n      <td>325</td>\n      <td>26</td>\n      <td>36</td>\n      <td>94</td>\n      <td>407</td>\n      <td>11</td>\n      <td>418</td>\n      <td>49</td>\n      <td>25</td>\n      <td>25</td>\n      <td>72</td>\n      <td>6</td>\n      <td>57</td>\n      <td>0</td>\n      <td>4</td>\n      <td>85</td>\n      <td>385</td>\n      <td>2</td>\n      <td>80</td>\n      <td>0</td>\n      <td>2</td>\n      <td>6</td>\n      <td>2</td>\n      <td>0</td>\n      <td>4</td>\n      <td>4</td>\n      <td>7</td>\n      <td>6</td>\n      <td>49.6</td>\n      <td>0.466667</td>\n      <td>1</td>\n      <td>1</td>\n      <td>2</td>\n      <td>1</td>\n      <td>1.6</td>\n      <td>2718</td>\n    </tr>\n    <tr>\n      <th>2</th>\n      <td>2</td>\n      <td>2</td>\n      <td>0</td>\n      <td>0</td>\n      <td>0</td>\n      <td>0</td>\n      <td>0</td>\n      <td>0</td>\n      <td>0</td>\n      <td>0</td>\n      <td>0</td>\n      <td>0</td>\n      <td>0</td>\n      <td>0</td>\n      <td>0</td>\n      <td>0</td>\n      <td>0</td>\n      <td>0</td>\n      <td>0</td>\n      <td>0</td>\n      <td>0</td>\n      <td>0</td>\n      <td>0</td>\n      <td>0</td>\n      <td>0</td>\n      <td>0</td>\n      <td>0</td>\n      <td>0</td>\n      <td>0</td>\n      <td>0</td>\n      <td>0</td>\n      <td>0</td>\n      <td>51</td>\n      <td>0</td>\n      <td>0</td>\n      <td>0</td>\n      <td>0</td>\n      <td>0</td>\n      <td>0</td>\n      <td>0</td>\n      <td>0</td>\n      <td>0</td>\n      <td>60</td>\n      <td>0</td>\n      <td>0</td>\n      <td>0</td>\n      <td>0</td>\n      <td>0</td>\n      <td>0</td>\n      <td>0</td>\n      <td>0</td>\n      <td>0</td>\n      <td>0</td>\n      <td>0</td>\n      <td>0</td>\n      <td>0</td>\n      <td>0</td>\n      <td>24</td>\n      <td>0</td>\n      <td>0</td>\n      <td>0</td>\n      <td>0</td>\n      <td>0</td>\n      <td>0</td>\n      <td>0</td>\n      <td>0</td>\n      <td>15</td>\n      <td>0</td>\n      <td>20</td>\n      <td>4</td>\n      <td>40</td>\n      <td>0</td>\n      <td>24</td>\n      <td>0</td>\n      <td>0</td>\n      <td>0</td>\n      <td>0</td>\n      <td>0</td>\n      <td>8</td>\n      <td>0</td>\n      <td>0</td>\n      <td>0</td>\n      <td>14</td>\n      <td>0</td>\n      <td>0</td>\n      <td>0</td>\n      <td>0</td>\n      <td>0</td>\n      <td>0</td>\n      <td>0</td>\n      <td>1</td>\n      <td>0</td>\n      <td>0</td>\n      <td>2</td>\n      <td>0.0</td>\n      <td>0.000000</td>\n      <td>0</td>\n      <td>0</td>\n      <td>0</td>\n      <td>0</td>\n      <td>0.0</td>\n      <td>149</td>\n    </tr>\n    <tr>\n      <th>3</th>\n      <td>4</td>\n      <td>2</td>\n      <td>0</td>\n      <td>1</td>\n      <td>0</td>\n      <td>0</td>\n      <td>0</td>\n      <td>0</td>\n      <td>0</td>\n      <td>0</td>\n      <td>0</td>\n      <td>0</td>\n      <td>0</td>\n      <td>0</td>\n      <td>0</td>\n      <td>0</td>\n      <td>0</td>\n      <td>0</td>\n      <td>0</td>\n      <td>0</td>\n      <td>0</td>\n      <td>0</td>\n      <td>0</td>\n      <td>0</td>\n      <td>0</td>\n      <td>0</td>\n      <td>0</td>\n      <td>0</td>\n      <td>0</td>\n      <td>77</td>\n      <td>0</td>\n      <td>0</td>\n      <td>85</td>\n      <td>0</td>\n      <td>0</td>\n      <td>0</td>\n      <td>0</td>\n      <td>0</td>\n      <td>0</td>\n      <td>0</td>\n      <td>0</td>\n      <td>0</td>\n      <td>25</td>\n      <td>0</td>\n      <td>0</td>\n      <td>0</td>\n      <td>0</td>\n      <td>0</td>\n      <td>0</td>\n      <td>0</td>\n      <td>0</td>\n      <td>0</td>\n      <td>0</td>\n      <td>0</td>\n      <td>0</td>\n      <td>0</td>\n      <td>0</td>\n      <td>21</td>\n      <td>2</td>\n      <td>3</td>\n      <td>0</td>\n      <td>0</td>\n      <td>0</td>\n      <td>0</td>\n      <td>0</td>\n      <td>1</td>\n      <td>31</td>\n      <td>0</td>\n      <td>29</td>\n      <td>9</td>\n      <td>61</td>\n      <td>0</td>\n      <td>21</td>\n      <td>0</td>\n      <td>0</td>\n      <td>2</td>\n      <td>3</td>\n      <td>0</td>\n      <td>13</td>\n      <td>0</td>\n      <td>0</td>\n      <td>3</td>\n      <td>28</td>\n      <td>2</td>\n      <td>3</td>\n      <td>0</td>\n      <td>0</td>\n      <td>0</td>\n      <td>1</td>\n      <td>0</td>\n      <td>1</td>\n      <td>0</td>\n      <td>0</td>\n      <td>2</td>\n      <td>0.0</td>\n      <td>0.000000</td>\n      <td>0</td>\n      <td>0</td>\n      <td>0</td>\n      <td>0</td>\n      <td>0.0</td>\n      <td>233</td>\n    </tr>\n    <tr>\n      <th>4</th>\n      <td>5</td>\n      <td>1</td>\n      <td>0</td>\n      <td>4</td>\n      <td>0</td>\n      <td>0</td>\n      <td>0</td>\n      <td>0</td>\n      <td>0</td>\n      <td>0</td>\n      <td>0</td>\n      <td>0</td>\n      <td>0</td>\n      <td>0</td>\n      <td>0</td>\n      <td>0</td>\n      <td>0</td>\n      <td>0</td>\n      <td>0</td>\n      <td>0</td>\n      <td>0</td>\n      <td>0</td>\n      <td>0</td>\n      <td>0</td>\n      <td>0</td>\n      <td>0</td>\n      <td>0</td>\n      <td>0</td>\n      <td>0</td>\n      <td>610</td>\n      <td>0</td>\n      <td>0</td>\n      <td>0</td>\n      <td>221</td>\n      <td>0</td>\n      <td>0</td>\n      <td>218</td>\n      <td>0</td>\n      <td>0</td>\n      <td>0</td>\n      <td>0</td>\n      <td>0</td>\n      <td>0</td>\n      <td>0</td>\n      <td>0</td>\n      <td>0</td>\n      <td>0</td>\n      <td>155</td>\n      <td>0</td>\n      <td>0</td>\n      <td>0</td>\n      <td>0</td>\n      <td>0</td>\n      <td>0</td>\n      <td>1</td>\n      <td>0</td>\n      <td>1</td>\n      <td>73</td>\n      <td>27</td>\n      <td>27</td>\n      <td>0</td>\n      <td>0</td>\n      <td>0</td>\n      <td>0</td>\n      <td>0</td>\n      <td>6</td>\n      <td>146</td>\n      <td>0</td>\n      <td>3</td>\n      <td>0</td>\n      <td>231</td>\n      <td>0</td>\n      <td>75</td>\n      <td>62</td>\n      <td>16</td>\n      <td>27</td>\n      <td>27</td>\n      <td>4</td>\n      <td>24</td>\n      <td>0</td>\n      <td>0</td>\n      <td>28</td>\n      <td>134</td>\n      <td>9</td>\n      <td>25</td>\n      <td>0</td>\n      <td>0</td>\n      <td>0</td>\n      <td>0</td>\n      <td>5</td>\n      <td>4</td>\n      <td>0</td>\n      <td>0</td>\n      <td>5</td>\n      <td>0.0</td>\n      <td>0.000000</td>\n      <td>0</td>\n      <td>0</td>\n      <td>0</td>\n      <td>0</td>\n      <td>0.0</td>\n      <td>951</td>\n    </tr>\n  </tbody>\n</table>\n</div>",
      "text/plain": "   Clip  Activity  Assessment  Game  Dino Dive  Sandcastle Builder (Activity)  \\\n0     5         3           1     3        188                             90   \n1    16        11           5    11        155                            334   \n2     2         2           0     0          0                              0   \n3     4         2           0     1          0                              0   \n4     5         1           0     4          0                              0   \n\n   Chest Sorter (Assessment)  Crystal Caves - Level 2  Dino Drink  \\\n0                          0                        0           0   \n1                          0                        0         159   \n2                          0                        0           0   \n3                          0                        0           0   \n4                          0                        0           0   \n\n   Scrub-A-Dub  Pan Balance  Magma Peak - Level 1  \\\n0            0            0                     0   \n1          162          129                     0   \n2            0            0                     0   \n3            0            0                     0   \n4            0            0                     0   \n\n   Mushroom Sorter (Assessment)  Bottle Filler (Activity)  \\\n0                             0                         0   \n1                             0                       348   \n2                             0                         0   \n3                             0                         0   \n4                             0                         0   \n\n   Crystal Caves - Level 1  Tree Top City - Level 3  Slop Problem  \\\n0                        0                        0             0   \n1                        0                        0             0   \n2                        0                        0             0   \n3                        0                        0             0   \n4                        0                        0             0   \n\n   Cart Balancer (Assessment)  Tree Top City - Level 1  \\\n0                           0                        0   \n1                           0                        0   \n2                           0                        0   \n3                           0                        0   \n4                           0                        0   \n\n   Tree Top City - Level 2  Crystals Rule  Pirate's Tale  \\\n0                        0              0              0   \n1                        0            169              0   \n2                        0              0              0   \n3                        0              0              0   \n4                        0              0              0   \n\n   Watering Hole (Activity)  Ordering Spheres  Leaf Leader  \\\n0                         0                 0            0   \n1                        73                 0           67   \n2                         0                 0            0   \n3                         0                 0            0   \n4                         0                 0            0   \n\n   Crystal Caves - Level 3  Rulers  Magma Peak - Level 2  \\\n0                        0       0                     0   \n1                        0       0                     0   \n2                        0       0                     0   \n3                        0       0                     0   \n4                        0       0                     0   \n\n   Bug Measurer (Activity)  All Star Sorting  Air Show  Balancing Act  \\\n0                       33              1960         0              0   \n1                       74                64       123              0   \n2                        0                 0         0              0   \n3                        0                77         0              0   \n4                        0               610         0              0   \n\n   Flower Waterer (Activity)  Chicken Balancer (Activity)  Costume Box  \\\n0                          0                            0            0   \n1                        178                          108            0   \n2                         51                            0            0   \n3                         85                            0            0   \n4                          0                          221            0   \n\n   Bird Measurer (Assessment)  Chow Time  Lifting Heavy Things  Treasure Map  \\\n0                           0        135                     0             0   \n1                           0        110                     0             0   \n2                           0          0                     0             0   \n3                           0          0                     0             0   \n4                           0        218                     0             0   \n\n   Egg Dropper (Activity)  Honey Cake  Bubble Bath  Fireworks (Activity)  \\\n0                      88           0            0                   194   \n1                     317           0           96                   173   \n2                       0           0            0                    60   \n3                       0           0            0                    25   \n4                       0           0            0                     0   \n\n   Welcome to Lost Lagoon!  12 Monkeys  Heavy, Heavier, Heaviest  \\\n0                        0           0                         0   \n1                        0           0                         0   \n2                        0           0                         0   \n3                        0           0                         0   \n4                        0           0                         0   \n\n   Cauldron Filler (Assessment)  Happy Camel  2050  4100  2060  4110  2070  \\\n0                             0            0     0     1     1     0     1   \n1                             0          181     6    23     4     3     1   \n2                             0            0     0     0     0     0     0   \n3                             0            0     0     0     0     0     0   \n4                             0          155     0     0     0     0     0   \n\n   2075  2080  2081  2083  3110  3120  3121  4220  4230  5000  4235  5010  \\\n0     0     0     0     0   108    33     9     0     0     0     0     0   \n1     3    10     2     7   416    25    72     9     0     4     0     4   \n2     0     0     0     0    24     0     0     0     0     0     0     0   \n3     0     0     0     0    21     2     3     0     0     0     0     0   \n4     0     1     0     1    73    27    27     0     0     0     0     0   \n\n   4010  4020  4021  4022  4025  4030  4031  3010  4035  4040  3020  3021  \\\n0     3   120    12     0    10   148     0   111    33     0    33     9   \n1    12   325    26    36    94   407    11   418    49    25    25    72   \n2     0    15     0    20     4    40     0    24     0     0     0     0   \n3     1    31     0    29     9    61     0    21     0     0     2     3   \n4     6   146     0     3     0   231     0    75    62    16    27    27   \n\n   4045  2000  4050  2010  2020  4070  2025  2030  4080  2035  2040  4090  \\\n0     0    25     0     1    11   190     1     7     0     0     0     0   \n1     6    57     0     4    85   385     2    80     0     2     6     2   \n2     0     8     0     0     0    14     0     0     0     0     0     0   \n3     0    13     0     0     3    28     2     3     0     0     0     1   \n4     4    24     0     0    28   134     9    25     0     0     0     0   \n\n   4095  session_title  accumu_win_n  accumu_loss_n  day_of_the_week  \\\n0     0              3             1              0                4   \n1     0              4             4              7                6   \n2     0              1             0              0                2   \n3     0              1             0              0                2   \n4     5              4             0              0                5   \n\n   duration_mean  accuracy_ave  0  1  2  3  accuracy_group_ave  accumu_actions  \n0           30.0      1.000000  0  0  0  1                 3.0             867  \n1           49.6      0.466667  1  1  2  1                 1.6            2718  \n2            0.0      0.000000  0  0  0  0                 0.0             149  \n3            0.0      0.000000  0  0  0  0                 0.0             233  \n4            0.0      0.000000  0  0  0  0                 0.0             951  "
     },
     "execution_count": 40,
     "metadata": {},
     "output_type": "execute_result"
    }
   ],
   "source": [
    "X_test.head()"
   ]
  },
  {
   "cell_type": "code",
   "execution_count": 41,
   "metadata": {},
   "outputs": [],
   "source": [
    "del train,test"
   ]
  },
  {
   "cell_type": "markdown",
   "metadata": {},
   "source": [
    "## Step 1 : Create Regressor Models\n",
    "Create multiple train_datasets using `kFold` and create a regression model from each dataset. I used ** CatBoost **, ** XGBoost **, ** LightGBM **."
   ]
  },
  {
   "cell_type": "code",
   "execution_count": 42,
   "metadata": {},
   "outputs": [],
   "source": [
    "# Create multiple datasets to create multiple models (not for CV).\n",
    "NFOLDS = 5\n",
    "folds = StratifiedKFold(n_splits=NFOLDS, shuffle=True, random_state=42)"
   ]
  },
  {
   "cell_type": "markdown",
   "metadata": {},
   "source": [
    "### - CatBoost"
   ]
  },
  {
   "cell_type": "code",
   "execution_count": 43,
   "metadata": {},
   "outputs": [],
   "source": [
    "# makes the model and set the parameters\n",
    "def make_CatBoost(task_type):\n",
    "    model = CatBoostRegressor(\n",
    "        iterations=5000,\n",
    "        learning_rate=0.02,\n",
    "        loss_function='RMSE',\n",
    "        random_seed=42,\n",
    "        depth=10,                            # add\n",
    "        border_count=108,                    # add\n",
    "        bagging_temperature=2.348502,        # add\n",
    "        task_type=task_type,\n",
    "        early_stopping_rounds=200\n",
    "    )\n",
    "    return model"
   ]
  },
  {
   "cell_type": "code",
   "execution_count": 44,
   "metadata": {},
   "outputs": [
    {
     "name": "stdout",
     "output_type": "stream",
     "text": "● Fold : 1 / 5\n0:\tlearn: 1.2493400\ttest: 1.2498009\tbest: 1.2498009 (0)\ttotal: 476ms\tremaining: 39m 39s\n"
    }
   ],
   "source": [
    "# CatBoost\n",
    "start_time = time()\n",
    "cat_models = []\n",
    "scores = []\n",
    "\n",
    "# Train and make models\n",
    "for fold, (train_ids, test_ids) in enumerate(folds.split(X, y)):\n",
    "    print('● Fold :', fold+1,'/',NFOLDS)\n",
    "    model = make_CatBoost(task_type)\n",
    "    model.fit(X.loc[train_ids, all_features], y.loc[train_ids], \n",
    "              eval_set=(X.loc[test_ids, all_features], y.loc[test_ids]),\n",
    "              use_best_model=False,\n",
    "              verbose=500,\n",
    "              cat_features=categorical_features)    \n",
    "    cat_models.append(model)\n",
    "    \n",
    "print('Time:', time() - start_time)"
   ]
  },
  {
   "cell_type": "markdown",
   "metadata": {},
   "source": [
    "### -XGBoost"
   ]
  },
  {
   "cell_type": "code",
   "execution_count": 0,
   "metadata": {},
   "outputs": [],
   "source": [
    "# XGBoost\n",
    "start_time = time()\n",
    "xgb_models = []\n",
    "scores = []\n",
    "\n",
    "params = {\n",
    "    'max_depth': 9,                 # 6           # mod 10→9\n",
    "    'learning_rate': 0.01,          # = eta 0.1: [0,1]\n",
    "    'objective': 'reg:linear',                    # add\n",
    "    'n_estimators' : 300,           # 100\n",
    "    'subsample': 0.6,               # 1, (0,1]    # mod 0.8→0.6\n",
    "    'colsample_bytree': 1.0,        # 1, (0, 1]   # mod 0.8→1.0\n",
    "    'gamma': 0.0,                                 # add\n",
    "    'min_child_weight': 5,                        # add\n",
    "    'seed' : 42,\n",
    "}\n",
    "\n",
    "# Train and make models\n",
    "for fold, (train_ids, val_ids) in enumerate(folds.split(X,y)):\n",
    "    print('● Fold :', fold+1,'/',NFOLDS)\n",
    "    dtrain = xgb.DMatrix(X.iloc[train_ids], y[train_ids])\n",
    "    dval = xgb.DMatrix(X.iloc[val_ids], y[val_ids])\n",
    "    model = xgb.train(params=params,\n",
    "                      dtrain=dtrain,\n",
    "                      num_boost_round=5000,\n",
    "                      evals=[(dtrain, 'train'), (dval, 'val')],\n",
    "                      early_stopping_rounds=100,\n",
    "                      verbose_eval=100\n",
    "                     )\n",
    "    xgb_models.append(model)\n",
    "    \n",
    "print('Time:', time() - start_time)"
   ]
  },
  {
   "cell_type": "markdown",
   "metadata": {},
   "source": [
    "### - LightGBM"
   ]
  },
  {
   "cell_type": "code",
   "execution_count": 0,
   "metadata": {},
   "outputs": [],
   "source": [
    "# LightGBM\n",
    "start_time = time()\n",
    "lgb_models = []\n",
    "scores = []\n",
    "\n",
    "params = {\n",
    "    'n_jobs': -1,\n",
    "    'seed': 42,\n",
    "    'boosting_type': 'gbdt',\n",
    "    'objective': 'regression',\n",
    "#     'num_iteration': 100,           # add\n",
    "    'metric': 'rmse',\n",
    "    'eval_metric': 'cappa',\n",
    "    'subsample': 0.75,\n",
    "    'feature_fraction':0.998495,    # add\n",
    "    'bagging_fraction': 0.872417,   # mod 0.8→\n",
    "    'bagging_freq': 1,              # add\n",
    "    'colsample_bytree': 0.8,        # add\n",
    "    'subsample_freq': 1,\n",
    "    'learning_rate': 0.02,\n",
    "    'feature_fraction': 0.9,\n",
    "    'max_depth': 13,                # mod 10→\n",
    "    'num_leaves': 1028,             # mod      # 2^max_depth < num_leaves\n",
    "    'min_gain_to_split':0.085502,   # add\n",
    "    'min_child_weight':1.087712,    # add\n",
    "    'lambda_l1': 1,  \n",
    "    'lambda_l2': 1,\n",
    "    'verbose': 100,\n",
    "}\n",
    "\n",
    "# Train and make models\n",
    "for fold, (train_ids, val_ids) in enumerate(folds.split(X,y)):\n",
    "    print('● Fold :', fold+1,'/',NFOLDS)\n",
    "    train_set = lgb.Dataset(X.iloc[train_ids], y[train_ids],\n",
    "                           categorical_feature=categorical_features)\n",
    "    val_set = lgb.Dataset(X.iloc[val_ids], y[val_ids],\n",
    "                         categorical_feature=categorical_features)\n",
    "    model = lgb.train(params=params,\n",
    "                      train_set=train_set,\n",
    "                      valid_sets=[train_set, val_set],\n",
    "                      num_boost_round=5000,\n",
    "                      early_stopping_rounds=100,    # del\n",
    "                      verbose_eval=200\n",
    "                     )\n",
    "    lgb_models.append(model)\n",
    "    \n",
    "print('\\nTime:', time() - start_time)"
   ]
  },
  {
   "cell_type": "markdown",
   "metadata": {},
   "source": [
    "## Step 2 : Predict each Model"
   ]
  },
  {
   "cell_type": "code",
   "execution_count": 0,
   "metadata": {},
   "outputs": [],
   "source": [
    "preds = []\n",
    "\n",
    "# CatBoost models\n",
    "for model in cat_models:\n",
    "    pred = model.predict(X)\n",
    "    preds.append(pred)\n",
    "    \n",
    "# XGBoost models\n",
    "for model in xgb_models:\n",
    "    pred = model.predict(xgb.DMatrix(X))\n",
    "    pred = pred.flatten()\n",
    "    preds.append(pred)\n",
    "    \n",
    "# LightGBM models\n",
    "for model in lgb_models:\n",
    "    pred = model.predict(X,num_iteration=model.best_iteration)\n",
    "    pred = pred.reshape(len(X),1).flatten()\n",
    "    preds.append(pred)\n",
    "\n",
    "df = pd.DataFrame(preds).T\n",
    "df.columns = ['C1','C2','C3','C4','C5',   # CatBoost\n",
    "              'X1','X2','X3','X4','X5',   # XGBoost\n",
    "              'L1','L2','L3','L4','L5']   # LightGBM"
   ]
  },
  {
   "cell_type": "code",
   "execution_count": 0,
   "metadata": {},
   "outputs": [],
   "source": [
    "# Calculate the average value of each model pred\n",
    "df['mean'] = df.mean(axis = 'columns')\n",
    "df.head(10)"
   ]
  },
  {
   "cell_type": "markdown",
   "metadata": {},
   "source": [
    "## Step 3 : Optimize Rounding Coefficients\n",
    "The rounding coefficient is optimized using the average value of the prediction results of each model. Optimization uses `scipy.optimize.minimize()`."
   ]
  },
  {
   "cell_type": "code",
   "execution_count": 0,
   "metadata": {},
   "outputs": [],
   "source": [
    "class OptRounder(object):\n",
    "    def __init__(self):\n",
    "        self.res_ = []\n",
    "        self.coef_ = []\n",
    "        \n",
    "    def get_res(self):\n",
    "        return self.res_\n",
    "    \n",
    "    # objective function\n",
    "    def func(self, coef, X, y):\n",
    "        kappa = cohen_kappa_score(self.bincut(coef, X), y, weights='quadratic')\n",
    "        return -kappa\n",
    "\n",
    "    def bincut(self, coef, X):\n",
    "        return pd.cut(X,\n",
    "                      [-np.inf] + list(np.sort(coef)) + [np.inf],\n",
    "                      labels = [0, 1, 2, 3])\n",
    "        \n",
    "    def fit(self, X, y):\n",
    "        pfunc = partial(self.func, X=X, y=y)\n",
    "        self.res_ = sp.optimize.minimize(fun = pfunc,           # objective function\n",
    "                                         x0 = [0.6, 1.5, 2.4],  # initial coefficients\n",
    "                                         method='nelder-mead')  # solver\n",
    "        self.coef_ = self.res_.x\n",
    "        \n",
    "    def predict(self, X, coef):\n",
    "        return self.bincut(coef, X)"
   ]
  },
  {
   "cell_type": "code",
   "execution_count": 0,
   "metadata": {},
   "outputs": [],
   "source": [
    "optR = OptRounder()\n",
    "optR.fit(df['mean'].values.reshape(-1,), y)\n",
    "res = optR.get_res()        # Optimized result\n",
    "\n",
    "print('●Iterations performed\\t:',res.nit)\n",
    "print('●Optimized coefficients\\t:',res.x)\n",
    "print('●Cohen Kappa score\\t:',-res.fun)\n",
    "\n",
    "coefficients = res.x        # Optimized coefficients"
   ]
  },
  {
   "cell_type": "markdown",
   "metadata": {},
   "source": [
    "## Step 4 : Final Classification"
   ]
  },
  {
   "cell_type": "code",
   "execution_count": 0,
   "metadata": {},
   "outputs": [],
   "source": [
    "# final classification\n",
    "df['predict'] = optR.predict(df['mean'].values, coefficients).astype(int)\n",
    "\n",
    "df['y'] = y\n",
    "df[['mean','predict','y']].head(10)"
   ]
  },
  {
   "cell_type": "code",
   "execution_count": 0,
   "metadata": {},
   "outputs": [],
   "source": [
    "df[['mean','predict','y']].plot(subplots=True,layout=(1, 3),figsize=(11, 3),kind='hist')"
   ]
  },
  {
   "cell_type": "code",
   "execution_count": 0,
   "metadata": {},
   "outputs": [],
   "source": [
    "# binning plot of 'pred' versus 'y'\n",
    "df.plot.hexbin(x='y', y='predict', gridsize=(3,3), sharex=False, title = \"binning 'pred' vs 'y'\")"
   ]
  },
  {
   "cell_type": "markdown",
   "metadata": {},
   "source": [
    "## Make submission"
   ]
  },
  {
   "cell_type": "code",
   "execution_count": 0,
   "metadata": {},
   "outputs": [],
   "source": [
    "preds = []\n",
    "for model in cat_models:        # CatBoost\n",
    "    pred = model.predict(X_test)\n",
    "    preds.append(pred)\n",
    "for model in xgb_models:        # XGBoost\n",
    "    pred = model.predict(xgb.DMatrix(X_test))\n",
    "    pred = pred.flatten()\n",
    "    preds.append(pred)\n",
    "for model in lgb_models:        # LightGBM\n",
    "    pred = model.predict(X_test,num_iteration=model.best_iteration)\n",
    "    pred = pred.reshape(len(X_test),1).flatten()\n",
    "    preds.append(pred)\n",
    "df_s = pd.DataFrame(preds).T\n",
    "\n",
    "df_s['mean'] = df_s.mean(axis = 'columns')\n",
    "\n",
    "# Classification\n",
    "df_s['pred'] = optR.predict(df_s['mean'].values, coefficients).astype(int)\n",
    "\n",
    "print(df_s.shape)\n",
    "df_s[['mean','pred']].head(10)"
   ]
  },
  {
   "cell_type": "code",
   "execution_count": 0,
   "metadata": {},
   "outputs": [],
   "source": [
    "df_s[['mean','pred']].plot(subplots=True, layout=(1, 2), figsize=(7, 3), kind='hist')"
   ]
  },
  {
   "cell_type": "code",
   "execution_count": 0,
   "metadata": {},
   "outputs": [],
   "source": [
    "submission = pd.read_csv(os.path.join(DIR,'sample_submission.csv'))\n",
    "submission['accuracy_group'] = df_s['pred']\n",
    "submission.head(10)"
   ]
  },
  {
   "cell_type": "code",
   "execution_count": 0,
   "metadata": {},
   "outputs": [],
   "source": [
    "submission.to_csv('submission.csv', index=None)"
   ]
  }
 ],
 "metadata": {
  "kernelspec": {
   "display_name": "Python 3",
   "language": "python",
   "name": "python3"
  },
  "language_info": {
   "codemirror_mode": {
    "name": "ipython",
    "version": 3
   },
   "file_extension": ".py",
   "mimetype": "text/x-python",
   "name": "python",
   "nbconvert_exporter": "python",
   "pygments_lexer": "ipython3",
   "version": "3.7.5"
  },
  "widgets": {
   "application/vnd.jupyter.widget-state+json": {
    "state": {
     "04968156245e4780ba5ccb821f5457f2": {
      "model_module": "@jupyter-widgets/controls",
      "model_module_version": "1.5.0",
      "model_name": "HTMLModel",
      "state": {
       "_dom_classes": [],
       "_model_module": "@jupyter-widgets/controls",
       "_model_module_version": "1.5.0",
       "_model_name": "HTMLModel",
       "_view_count": null,
       "_view_module": "@jupyter-widgets/controls",
       "_view_module_version": "1.5.0",
       "_view_name": "HTMLView",
       "description": "",
       "description_tooltip": null,
       "layout": "IPY_MODEL_0956b2bf1bb24029829391a8ac131c6b",
       "placeholder": "​",
       "style": "IPY_MODEL_b151e5a478cd43bea9124c832cf1d60f",
       "value": " 17000/17000 [19:53&lt;00:00, 14.24it/s]"
      }
     },
     "0956b2bf1bb24029829391a8ac131c6b": {
      "model_module": "@jupyter-widgets/base",
      "model_module_version": "1.2.0",
      "model_name": "LayoutModel",
      "state": {
       "_model_module": "@jupyter-widgets/base",
       "_model_module_version": "1.2.0",
       "_model_name": "LayoutModel",
       "_view_count": null,
       "_view_module": "@jupyter-widgets/base",
       "_view_module_version": "1.2.0",
       "_view_name": "LayoutView",
       "align_content": null,
       "align_items": null,
       "align_self": null,
       "border": null,
       "bottom": null,
       "display": null,
       "flex": null,
       "flex_flow": null,
       "grid_area": null,
       "grid_auto_columns": null,
       "grid_auto_flow": null,
       "grid_auto_rows": null,
       "grid_column": null,
       "grid_gap": null,
       "grid_row": null,
       "grid_template_areas": null,
       "grid_template_columns": null,
       "grid_template_rows": null,
       "height": null,
       "justify_content": null,
       "justify_items": null,
       "left": null,
       "margin": null,
       "max_height": null,
       "max_width": null,
       "min_height": null,
       "min_width": null,
       "object_fit": null,
       "object_position": null,
       "order": null,
       "overflow": null,
       "overflow_x": null,
       "overflow_y": null,
       "padding": null,
       "right": null,
       "top": null,
       "visibility": null,
       "width": null
      }
     },
     "14c7bdf4028e4419967923aede9b6250": {
      "model_module": "@jupyter-widgets/base",
      "model_module_version": "1.2.0",
      "model_name": "LayoutModel",
      "state": {
       "_model_module": "@jupyter-widgets/base",
       "_model_module_version": "1.2.0",
       "_model_name": "LayoutModel",
       "_view_count": null,
       "_view_module": "@jupyter-widgets/base",
       "_view_module_version": "1.2.0",
       "_view_name": "LayoutView",
       "align_content": null,
       "align_items": null,
       "align_self": null,
       "border": null,
       "bottom": null,
       "display": null,
       "flex": null,
       "flex_flow": null,
       "grid_area": null,
       "grid_auto_columns": null,
       "grid_auto_flow": null,
       "grid_auto_rows": null,
       "grid_column": null,
       "grid_gap": null,
       "grid_row": null,
       "grid_template_areas": null,
       "grid_template_columns": null,
       "grid_template_rows": null,
       "height": null,
       "justify_content": null,
       "justify_items": null,
       "left": null,
       "margin": null,
       "max_height": null,
       "max_width": null,
       "min_height": null,
       "min_width": null,
       "object_fit": null,
       "object_position": null,
       "order": null,
       "overflow": null,
       "overflow_x": null,
       "overflow_y": null,
       "padding": null,
       "right": null,
       "top": null,
       "visibility": null,
       "width": null
      }
     },
     "26986ddf5bc044b3b142518131e96bc7": {
      "model_module": "@jupyter-widgets/controls",
      "model_module_version": "1.5.0",
      "model_name": "HBoxModel",
      "state": {
       "_dom_classes": [],
       "_model_module": "@jupyter-widgets/controls",
       "_model_module_version": "1.5.0",
       "_model_name": "HBoxModel",
       "_view_count": null,
       "_view_module": "@jupyter-widgets/controls",
       "_view_module_version": "1.5.0",
       "_view_name": "HBoxView",
       "box_style": "",
       "children": [
        "IPY_MODEL_56c0a43af6ed45f4873ccd4e05306762",
        "IPY_MODEL_89d59bdc3acd494ab26ff52d5df2701f"
       ],
       "layout": "IPY_MODEL_8d58f198dce64a7c9b3bf9b6b91cbab3"
      }
     },
     "2b0bad71e10c4f8a93e9d8eac19d3648": {
      "model_module": "@jupyter-widgets/controls",
      "model_module_version": "1.5.0",
      "model_name": "ProgressStyleModel",
      "state": {
       "_model_module": "@jupyter-widgets/controls",
       "_model_module_version": "1.5.0",
       "_model_name": "ProgressStyleModel",
       "_view_count": null,
       "_view_module": "@jupyter-widgets/base",
       "_view_module_version": "1.2.0",
       "_view_name": "StyleView",
       "bar_color": null,
       "description_width": "initial"
      }
     },
     "56c0a43af6ed45f4873ccd4e05306762": {
      "model_module": "@jupyter-widgets/controls",
      "model_module_version": "1.5.0",
      "model_name": "IntProgressModel",
      "state": {
       "_dom_classes": [],
       "_model_module": "@jupyter-widgets/controls",
       "_model_module_version": "1.5.0",
       "_model_name": "IntProgressModel",
       "_view_count": null,
       "_view_module": "@jupyter-widgets/controls",
       "_view_module_version": "1.5.0",
       "_view_name": "ProgressView",
       "bar_style": "success",
       "description": "100%",
       "description_tooltip": null,
       "layout": "IPY_MODEL_14c7bdf4028e4419967923aede9b6250",
       "max": 1000,
       "min": 0,
       "orientation": "horizontal",
       "style": "IPY_MODEL_97ffed2f70fd4ceca7fc8c7af2d512a8",
       "value": 1000
      }
     },
     "6a732c2f95824e49a2f18f3e13a890ab": {
      "model_module": "@jupyter-widgets/base",
      "model_module_version": "1.2.0",
      "model_name": "LayoutModel",
      "state": {
       "_model_module": "@jupyter-widgets/base",
       "_model_module_version": "1.2.0",
       "_model_name": "LayoutModel",
       "_view_count": null,
       "_view_module": "@jupyter-widgets/base",
       "_view_module_version": "1.2.0",
       "_view_name": "LayoutView",
       "align_content": null,
       "align_items": null,
       "align_self": null,
       "border": null,
       "bottom": null,
       "display": null,
       "flex": null,
       "flex_flow": null,
       "grid_area": null,
       "grid_auto_columns": null,
       "grid_auto_flow": null,
       "grid_auto_rows": null,
       "grid_column": null,
       "grid_gap": null,
       "grid_row": null,
       "grid_template_areas": null,
       "grid_template_columns": null,
       "grid_template_rows": null,
       "height": null,
       "justify_content": null,
       "justify_items": null,
       "left": null,
       "margin": null,
       "max_height": null,
       "max_width": null,
       "min_height": null,
       "min_width": null,
       "object_fit": null,
       "object_position": null,
       "order": null,
       "overflow": null,
       "overflow_x": null,
       "overflow_y": null,
       "padding": null,
       "right": null,
       "top": null,
       "visibility": null,
       "width": null
      }
     },
     "6b78c588bcab4c04aa6bef1cd4e549cc": {
      "model_module": "@jupyter-widgets/controls",
      "model_module_version": "1.5.0",
      "model_name": "IntProgressModel",
      "state": {
       "_dom_classes": [],
       "_model_module": "@jupyter-widgets/controls",
       "_model_module_version": "1.5.0",
       "_model_name": "IntProgressModel",
       "_view_count": null,
       "_view_module": "@jupyter-widgets/controls",
       "_view_module_version": "1.5.0",
       "_view_name": "ProgressView",
       "bar_style": "success",
       "description": "100%",
       "description_tooltip": null,
       "layout": "IPY_MODEL_6a732c2f95824e49a2f18f3e13a890ab",
       "max": 17000,
       "min": 0,
       "orientation": "horizontal",
       "style": "IPY_MODEL_2b0bad71e10c4f8a93e9d8eac19d3648",
       "value": 17000
      }
     },
     "739ecb3eda4a46778b8a58558d355d64": {
      "model_module": "@jupyter-widgets/controls",
      "model_module_version": "1.5.0",
      "model_name": "DescriptionStyleModel",
      "state": {
       "_model_module": "@jupyter-widgets/controls",
       "_model_module_version": "1.5.0",
       "_model_name": "DescriptionStyleModel",
       "_view_count": null,
       "_view_module": "@jupyter-widgets/base",
       "_view_module_version": "1.2.0",
       "_view_name": "StyleView",
       "description_width": ""
      }
     },
     "757e9464bbae4275b61baef3c03eecf2": {
      "model_module": "@jupyter-widgets/base",
      "model_module_version": "1.2.0",
      "model_name": "LayoutModel",
      "state": {
       "_model_module": "@jupyter-widgets/base",
       "_model_module_version": "1.2.0",
       "_model_name": "LayoutModel",
       "_view_count": null,
       "_view_module": "@jupyter-widgets/base",
       "_view_module_version": "1.2.0",
       "_view_name": "LayoutView",
       "align_content": null,
       "align_items": null,
       "align_self": null,
       "border": null,
       "bottom": null,
       "display": null,
       "flex": null,
       "flex_flow": null,
       "grid_area": null,
       "grid_auto_columns": null,
       "grid_auto_flow": null,
       "grid_auto_rows": null,
       "grid_column": null,
       "grid_gap": null,
       "grid_row": null,
       "grid_template_areas": null,
       "grid_template_columns": null,
       "grid_template_rows": null,
       "height": null,
       "justify_content": null,
       "justify_items": null,
       "left": null,
       "margin": null,
       "max_height": null,
       "max_width": null,
       "min_height": null,
       "min_width": null,
       "object_fit": null,
       "object_position": null,
       "order": null,
       "overflow": null,
       "overflow_x": null,
       "overflow_y": null,
       "padding": null,
       "right": null,
       "top": null,
       "visibility": null,
       "width": null
      }
     },
     "89d59bdc3acd494ab26ff52d5df2701f": {
      "model_module": "@jupyter-widgets/controls",
      "model_module_version": "1.5.0",
      "model_name": "HTMLModel",
      "state": {
       "_dom_classes": [],
       "_model_module": "@jupyter-widgets/controls",
       "_model_module_version": "1.5.0",
       "_model_name": "HTMLModel",
       "_view_count": null,
       "_view_module": "@jupyter-widgets/controls",
       "_view_module_version": "1.5.0",
       "_view_name": "HTMLView",
       "description": "",
       "description_tooltip": null,
       "layout": "IPY_MODEL_757e9464bbae4275b61baef3c03eecf2",
       "placeholder": "​",
       "style": "IPY_MODEL_739ecb3eda4a46778b8a58558d355d64",
       "value": " 1000/1000 [12:55&lt;00:00,  1.29it/s]"
      }
     },
     "8d58f198dce64a7c9b3bf9b6b91cbab3": {
      "model_module": "@jupyter-widgets/base",
      "model_module_version": "1.2.0",
      "model_name": "LayoutModel",
      "state": {
       "_model_module": "@jupyter-widgets/base",
       "_model_module_version": "1.2.0",
       "_model_name": "LayoutModel",
       "_view_count": null,
       "_view_module": "@jupyter-widgets/base",
       "_view_module_version": "1.2.0",
       "_view_name": "LayoutView",
       "align_content": null,
       "align_items": null,
       "align_self": null,
       "border": null,
       "bottom": null,
       "display": null,
       "flex": null,
       "flex_flow": null,
       "grid_area": null,
       "grid_auto_columns": null,
       "grid_auto_flow": null,
       "grid_auto_rows": null,
       "grid_column": null,
       "grid_gap": null,
       "grid_row": null,
       "grid_template_areas": null,
       "grid_template_columns": null,
       "grid_template_rows": null,
       "height": null,
       "justify_content": null,
       "justify_items": null,
       "left": null,
       "margin": null,
       "max_height": null,
       "max_width": null,
       "min_height": null,
       "min_width": null,
       "object_fit": null,
       "object_position": null,
       "order": null,
       "overflow": null,
       "overflow_x": null,
       "overflow_y": null,
       "padding": null,
       "right": null,
       "top": null,
       "visibility": null,
       "width": null
      }
     },
     "97ffed2f70fd4ceca7fc8c7af2d512a8": {
      "model_module": "@jupyter-widgets/controls",
      "model_module_version": "1.5.0",
      "model_name": "ProgressStyleModel",
      "state": {
       "_model_module": "@jupyter-widgets/controls",
       "_model_module_version": "1.5.0",
       "_model_name": "ProgressStyleModel",
       "_view_count": null,
       "_view_module": "@jupyter-widgets/base",
       "_view_module_version": "1.2.0",
       "_view_name": "StyleView",
       "bar_color": null,
       "description_width": "initial"
      }
     },
     "b151e5a478cd43bea9124c832cf1d60f": {
      "model_module": "@jupyter-widgets/controls",
      "model_module_version": "1.5.0",
      "model_name": "DescriptionStyleModel",
      "state": {
       "_model_module": "@jupyter-widgets/controls",
       "_model_module_version": "1.5.0",
       "_model_name": "DescriptionStyleModel",
       "_view_count": null,
       "_view_module": "@jupyter-widgets/base",
       "_view_module_version": "1.2.0",
       "_view_name": "StyleView",
       "description_width": ""
      }
     },
     "c35bb0d9868f452aa1d1239a35589e3c": {
      "model_module": "@jupyter-widgets/controls",
      "model_module_version": "1.5.0",
      "model_name": "HBoxModel",
      "state": {
       "_dom_classes": [],
       "_model_module": "@jupyter-widgets/controls",
       "_model_module_version": "1.5.0",
       "_model_name": "HBoxModel",
       "_view_count": null,
       "_view_module": "@jupyter-widgets/controls",
       "_view_module_version": "1.5.0",
       "_view_name": "HBoxView",
       "box_style": "",
       "children": [
        "IPY_MODEL_6b78c588bcab4c04aa6bef1cd4e549cc",
        "IPY_MODEL_04968156245e4780ba5ccb821f5457f2"
       ],
       "layout": "IPY_MODEL_dea5a1d94b5a42faad8329d6704090af"
      }
     },
     "dea5a1d94b5a42faad8329d6704090af": {
      "model_module": "@jupyter-widgets/base",
      "model_module_version": "1.2.0",
      "model_name": "LayoutModel",
      "state": {
       "_model_module": "@jupyter-widgets/base",
       "_model_module_version": "1.2.0",
       "_model_name": "LayoutModel",
       "_view_count": null,
       "_view_module": "@jupyter-widgets/base",
       "_view_module_version": "1.2.0",
       "_view_name": "LayoutView",
       "align_content": null,
       "align_items": null,
       "align_self": null,
       "border": null,
       "bottom": null,
       "display": null,
       "flex": null,
       "flex_flow": null,
       "grid_area": null,
       "grid_auto_columns": null,
       "grid_auto_flow": null,
       "grid_auto_rows": null,
       "grid_column": null,
       "grid_gap": null,
       "grid_row": null,
       "grid_template_areas": null,
       "grid_template_columns": null,
       "grid_template_rows": null,
       "height": null,
       "justify_content": null,
       "justify_items": null,
       "left": null,
       "margin": null,
       "max_height": null,
       "max_width": null,
       "min_height": null,
       "min_width": null,
       "object_fit": null,
       "object_position": null,
       "order": null,
       "overflow": null,
       "overflow_x": null,
       "overflow_y": null,
       "padding": null,
       "right": null,
       "top": null,
       "visibility": null,
       "width": null
      }
     }
    },
    "version_major": 2,
    "version_minor": 0
   }
  }
 },
 "nbformat": 4,
 "nbformat_minor": 1
}