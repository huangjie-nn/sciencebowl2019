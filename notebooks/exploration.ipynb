{
 "nbformat": 4,
 "nbformat_minor": 2,
 "metadata": {
  "language_info": {
   "name": "python",
   "codemirror_mode": {
    "name": "ipython",
    "version": 3
   }
  },
  "orig_nbformat": 2,
  "file_extension": ".py",
  "mimetype": "text/x-python",
  "name": "python",
  "npconvert_exporter": "python",
  "pygments_lexer": "ipython3",
  "version": 3
 },
 "cells": [
  {
   "cell_type": "code",
   "execution_count": 20,
   "metadata": {},
   "outputs": [],
   "source": [
    "import pandas as pd\n",
    "from pathlib import Path\n",
    "import os\n",
    "\n",
    "current_path=os.getcwd()\n",
    "\n",
    "p=Path(current_apth)\n",
    "data_path=os.path.join(current_path+\"/data\")\n",
    "\n",
    "data_full_path=os.path.join(data_path+\"/train.csv\")\n",
    "label_full_path=os.path.join(data_path+\"/train_labels.csv\")\n",
    "spec_full_path=os.path.join(data_path+'/specs.csv')\n"
   ]
  },
  {
   "cell_type": "code",
   "execution_count": 15,
   "metadata": {},
   "outputs": [],
   "source": [
    "data=pd.read_csv(data_full_path,sep=',')\n",
    "label=pd.read_csv(label_full_path,sep=',')"
   ]
  },
  {
   "cell_type": "code",
   "execution_count": 51,
   "metadata": {},
   "outputs": [
    {
     "data": {
      "text/html": "<div>\n<style scoped>\n    .dataframe tbody tr th:only-of-type {\n        vertical-align: middle;\n    }\n\n    .dataframe tbody tr th {\n        vertical-align: top;\n    }\n\n    .dataframe thead th {\n        text-align: right;\n    }\n</style>\n<table border=\"1\" class=\"dataframe\">\n  <thead>\n    <tr style=\"text-align: right;\">\n      <th></th>\n      <th>event_id</th>\n      <th>game_session</th>\n      <th>timestamp</th>\n      <th>event_data</th>\n      <th>installation_id</th>\n      <th>event_count</th>\n      <th>event_code</th>\n      <th>game_time</th>\n      <th>title</th>\n      <th>type</th>\n      <th>world</th>\n    </tr>\n  </thead>\n  <tbody>\n    <tr>\n      <th>0</th>\n      <td>27253bdc</td>\n      <td>45bb1e1b6b50c07b</td>\n      <td>2019-09-06T17:53:46.937Z</td>\n      <td>{\"event_code\": 2000, \"event_count\": 1}</td>\n      <td>0001e90f</td>\n      <td>1</td>\n      <td>2000</td>\n      <td>0</td>\n      <td>Welcome to Lost Lagoon!</td>\n      <td>Clip</td>\n      <td>NONE</td>\n    </tr>\n    <tr>\n      <th>1</th>\n      <td>27253bdc</td>\n      <td>17eeb7f223665f53</td>\n      <td>2019-09-06T17:54:17.519Z</td>\n      <td>{\"event_code\": 2000, \"event_count\": 1}</td>\n      <td>0001e90f</td>\n      <td>1</td>\n      <td>2000</td>\n      <td>0</td>\n      <td>Magma Peak - Level 1</td>\n      <td>Clip</td>\n      <td>MAGMAPEAK</td>\n    </tr>\n    <tr>\n      <th>2</th>\n      <td>77261ab5</td>\n      <td>0848ef14a8dc6892</td>\n      <td>2019-09-06T17:54:56.302Z</td>\n      <td>{\"version\":\"1.0\",\"event_count\":1,\"game_time\":0...</td>\n      <td>0001e90f</td>\n      <td>1</td>\n      <td>2000</td>\n      <td>0</td>\n      <td>Sandcastle Builder (Activity)</td>\n      <td>Activity</td>\n      <td>MAGMAPEAK</td>\n    </tr>\n    <tr>\n      <th>3</th>\n      <td>b2dba42b</td>\n      <td>0848ef14a8dc6892</td>\n      <td>2019-09-06T17:54:56.387Z</td>\n      <td>{\"description\":\"Let's build a sandcastle! Firs...</td>\n      <td>0001e90f</td>\n      <td>2</td>\n      <td>3010</td>\n      <td>53</td>\n      <td>Sandcastle Builder (Activity)</td>\n      <td>Activity</td>\n      <td>MAGMAPEAK</td>\n    </tr>\n    <tr>\n      <th>4</th>\n      <td>1bb5fbdb</td>\n      <td>0848ef14a8dc6892</td>\n      <td>2019-09-06T17:55:03.253Z</td>\n      <td>{\"description\":\"Let's build a sandcastle! Firs...</td>\n      <td>0001e90f</td>\n      <td>3</td>\n      <td>3110</td>\n      <td>6972</td>\n      <td>Sandcastle Builder (Activity)</td>\n      <td>Activity</td>\n      <td>MAGMAPEAK</td>\n    </tr>\n  </tbody>\n</table>\n</div>",
      "text/plain": "   event_id      game_session                 timestamp  \\\n0  27253bdc  45bb1e1b6b50c07b  2019-09-06T17:53:46.937Z   \n1  27253bdc  17eeb7f223665f53  2019-09-06T17:54:17.519Z   \n2  77261ab5  0848ef14a8dc6892  2019-09-06T17:54:56.302Z   \n3  b2dba42b  0848ef14a8dc6892  2019-09-06T17:54:56.387Z   \n4  1bb5fbdb  0848ef14a8dc6892  2019-09-06T17:55:03.253Z   \n\n                                          event_data installation_id  \\\n0             {\"event_code\": 2000, \"event_count\": 1}        0001e90f   \n1             {\"event_code\": 2000, \"event_count\": 1}        0001e90f   \n2  {\"version\":\"1.0\",\"event_count\":1,\"game_time\":0...        0001e90f   \n3  {\"description\":\"Let's build a sandcastle! Firs...        0001e90f   \n4  {\"description\":\"Let's build a sandcastle! Firs...        0001e90f   \n\n   event_count  event_code  game_time                          title  \\\n0            1        2000          0        Welcome to Lost Lagoon!   \n1            1        2000          0           Magma Peak - Level 1   \n2            1        2000          0  Sandcastle Builder (Activity)   \n3            2        3010         53  Sandcastle Builder (Activity)   \n4            3        3110       6972  Sandcastle Builder (Activity)   \n\n       type      world  \n0      Clip       NONE  \n1      Clip  MAGMAPEAK  \n2  Activity  MAGMAPEAK  \n3  Activity  MAGMAPEAK  \n4  Activity  MAGMAPEAK  "
     },
     "execution_count": 51,
     "metadata": {},
     "output_type": "execute_result"
    }
   ],
   "source": [
    "data.head()"
   ]
  },
  {
   "cell_type": "code",
   "execution_count": 52,
   "metadata": {},
   "outputs": [
    {
     "data": {
      "text/html": "<div>\n<style scoped>\n    .dataframe tbody tr th:only-of-type {\n        vertical-align: middle;\n    }\n\n    .dataframe tbody tr th {\n        vertical-align: top;\n    }\n\n    .dataframe thead th {\n        text-align: right;\n    }\n</style>\n<table border=\"1\" class=\"dataframe\">\n  <thead>\n    <tr style=\"text-align: right;\">\n      <th></th>\n      <th>event_count</th>\n      <th>event_code</th>\n      <th>game_time</th>\n    </tr>\n  </thead>\n  <tbody>\n    <tr>\n      <th>count</th>\n      <td>1.134104e+07</td>\n      <td>1.134104e+07</td>\n      <td>1.134104e+07</td>\n    </tr>\n    <tr>\n      <th>mean</th>\n      <td>1.056642e+02</td>\n      <td>3.513838e+03</td>\n      <td>1.976236e+05</td>\n    </tr>\n    <tr>\n      <th>std</th>\n      <td>1.483477e+02</td>\n      <td>6.816470e+02</td>\n      <td>1.803968e+06</td>\n    </tr>\n    <tr>\n      <th>min</th>\n      <td>1.000000e+00</td>\n      <td>2.000000e+03</td>\n      <td>0.000000e+00</td>\n    </tr>\n    <tr>\n      <th>25%</th>\n      <td>2.500000e+01</td>\n      <td>3.021000e+03</td>\n      <td>3.061800e+04</td>\n    </tr>\n    <tr>\n      <th>50%</th>\n      <td>6.100000e+01</td>\n      <td>4.020000e+03</td>\n      <td>7.276100e+04</td>\n    </tr>\n    <tr>\n      <th>75%</th>\n      <td>1.290000e+02</td>\n      <td>4.035000e+03</td>\n      <td>1.574460e+05</td>\n    </tr>\n    <tr>\n      <th>max</th>\n      <td>3.368000e+03</td>\n      <td>5.010000e+03</td>\n      <td>3.069102e+08</td>\n    </tr>\n  </tbody>\n</table>\n</div>",
      "text/plain": "        event_count    event_code     game_time\ncount  1.134104e+07  1.134104e+07  1.134104e+07\nmean   1.056642e+02  3.513838e+03  1.976236e+05\nstd    1.483477e+02  6.816470e+02  1.803968e+06\nmin    1.000000e+00  2.000000e+03  0.000000e+00\n25%    2.500000e+01  3.021000e+03  3.061800e+04\n50%    6.100000e+01  4.020000e+03  7.276100e+04\n75%    1.290000e+02  4.035000e+03  1.574460e+05\nmax    3.368000e+03  5.010000e+03  3.069102e+08"
     },
     "execution_count": 52,
     "metadata": {},
     "output_type": "execute_result"
    }
   ],
   "source": [
    "data.describe()"
   ]
  },
  {
   "cell_type": "code",
   "execution_count": 18,
   "metadata": {},
   "outputs": [
    {
     "data": {
      "text/plain": "Index(['event_id', 'game_session', 'timestamp', 'event_data',\n       'installation_id', 'event_count', 'event_code', 'game_time', 'title',\n       'type', 'world'],\n      dtype='object')"
     },
     "execution_count": 18,
     "metadata": {},
     "output_type": "execute_result"
    }
   ],
   "source": [
    "data.columns"
   ]
  },
  {
   "cell_type": "code",
   "execution_count": 32,
   "metadata": {},
   "outputs": [
    {
     "data": {
      "text/plain": "Index(['event_id', 'info', 'args'], dtype='object')"
     },
     "execution_count": 32,
     "metadata": {},
     "output_type": "execute_result"
    }
   ],
   "source": [
    "specs=pd.read_csv(spec_full_path,sep=',')\n",
    "specs.columns"
   ]
  },
  {
   "cell_type": "code",
   "execution_count": 47,
   "metadata": {},
   "outputs": [
    {
     "data": {
      "text/plain": "{'0': 'The end of system-initiated feedback (Correct) event occurs when the game finishes delivering feedback to the player in response to a correct round attempt (pressing the go button with the correct answer). It contains information that describes the duration and content of the instruction, and will likely occur in conjunction with a beat round event. These events are used to determine the effectiveness of the feedback. We can answer questions like, \"how much time elapsed while the game was presenting feedback?\"'}"
     },
     "execution_count": 47,
     "metadata": {},
     "output_type": "execute_result"
    }
   ],
   "source": [
    "import json\n",
    "\n",
    "information=specs.head(1)[\"info\"]\n",
    "info_=json.load(specs.head(1).info)"
   ]
  },
  {
   "cell_type": "code",
   "execution_count": 48,
   "metadata": {},
   "outputs": [
    {
     "data": {
      "text/plain": "{'0': '[{\"name\":\"game_time\",\"type\":\"int\",\"info\":\"millisecond count since start of game\"},{\"name\":\"round\",\"type\":\"int\",\"info\":\"number of the current round when the event takes place or 0 if no round\"},{\"name\":\"level\",\"type\":\"int\",\"info\":\"number of the current level when the event takes place or 0 if no level\"},{\"name\":\"description\",\"type\":\"string\",\"info\":\"the text or description of the instruction\"},{\"name\":\"identifier\",\"type\":\"string\",\"info\":\"a unique identifier for this piece of instruction\"},{\"name\":\"media_type\",\"type\":\"string\",\"info\":\"the type of media that has just played:\\\\n\\'audio\\' || \\'animation\\' || \\'other\\'\"},{\"name\":\"duration\",\"type\":\"int\",\"info\":\"the duration of the media playback in milliseconds\"},{\"name\":\"event_count\",\"type\":\"int\",\"info\":\"session event counter\"},{\"name\":\"event_code\",\"type\":\"int\",\"info\":\"event class identifier\"}]'}"
     },
     "execution_count": 48,
     "metadata": {},
     "output_type": "execute_result"
    }
   ],
   "source": [
    "import json\n",
    "\n",
    "information=specs.head(1)[\"info\"]\n",
    "info_=json.load(specs.head(1).info)"
   ]
  },
  {
   "cell_type": "code",
   "execution_count": 49,
   "metadata": {},
   "outputs": [
    {
     "data": {
      "text/html": "<div>\n<style scoped>\n    .dataframe tbody tr th:only-of-type {\n        vertical-align: middle;\n    }\n\n    .dataframe tbody tr th {\n        vertical-align: top;\n    }\n\n    .dataframe thead th {\n        text-align: right;\n    }\n</style>\n<table border=\"1\" class=\"dataframe\">\n  <thead>\n    <tr style=\"text-align: right;\">\n      <th></th>\n      <th>event_id</th>\n      <th>info</th>\n      <th>args</th>\n    </tr>\n  </thead>\n  <tbody>\n    <tr>\n      <th>0</th>\n      <td>2b9272f4</td>\n      <td>The end of system-initiated feedback (Correct)...</td>\n      <td>[{\"name\":\"game_time\",\"type\":\"int\",\"info\":\"mill...</td>\n    </tr>\n    <tr>\n      <th>1</th>\n      <td>df4fe8b6</td>\n      <td>The end of system-initiated feedback (Incorrec...</td>\n      <td>[{\"name\":\"game_time\",\"type\":\"int\",\"info\":\"mill...</td>\n    </tr>\n    <tr>\n      <th>2</th>\n      <td>3babcb9b</td>\n      <td>The end of system-initiated instruction event ...</td>\n      <td>[{\"name\":\"game_time\",\"type\":\"int\",\"info\":\"mill...</td>\n    </tr>\n    <tr>\n      <th>3</th>\n      <td>7f0836bf</td>\n      <td>The end of system-initiated instruction event ...</td>\n      <td>[{\"name\":\"game_time\",\"type\":\"int\",\"info\":\"mill...</td>\n    </tr>\n    <tr>\n      <th>4</th>\n      <td>ab3136ba</td>\n      <td>The end of system-initiated instruction event ...</td>\n      <td>[{\"name\":\"game_time\",\"type\":\"int\",\"info\":\"mill...</td>\n    </tr>\n  </tbody>\n</table>\n</div>",
      "text/plain": "   event_id                                               info  \\\n0  2b9272f4  The end of system-initiated feedback (Correct)...   \n1  df4fe8b6  The end of system-initiated feedback (Incorrec...   \n2  3babcb9b  The end of system-initiated instruction event ...   \n3  7f0836bf  The end of system-initiated instruction event ...   \n4  ab3136ba  The end of system-initiated instruction event ...   \n\n                                                args  \n0  [{\"name\":\"game_time\",\"type\":\"int\",\"info\":\"mill...  \n1  [{\"name\":\"game_time\",\"type\":\"int\",\"info\":\"mill...  \n2  [{\"name\":\"game_time\",\"type\":\"int\",\"info\":\"mill...  \n3  [{\"name\":\"game_time\",\"type\":\"int\",\"info\":\"mill...  \n4  [{\"name\":\"game_time\",\"type\":\"int\",\"info\":\"mill...  "
     },
     "execution_count": 49,
     "metadata": {},
     "output_type": "execute_result"
    }
   ],
   "source": []
  },
  {
   "cell_type": "markdown",
   "execution_count": null,
   "metadata": {},
   "outputs": [],
   "source": [
    "**train.csv and specs.csv** <br/>\n",
    "most likely the two of them need to be combined and feature engineered to obtain a better representation of the training set. "
   ]
  },
  {
   "cell_type": "code",
   "execution_count": null,
   "metadata": {},
   "outputs": [],
   "source": []
  }
 ]
}